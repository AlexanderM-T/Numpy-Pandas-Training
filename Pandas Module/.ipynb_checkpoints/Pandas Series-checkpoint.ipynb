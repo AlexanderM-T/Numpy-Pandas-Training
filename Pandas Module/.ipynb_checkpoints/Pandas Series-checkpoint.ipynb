{
 "cells": [
  {
   "cell_type": "code",
   "execution_count": 1,
   "id": "87b924bf-d08d-41fa-a345-9a4c39a2add0",
   "metadata": {
    "tags": []
   },
   "outputs": [],
   "source": [
    "import numpy as np\n",
    "import pandas as pd"
   ]
  },
  {
   "cell_type": "markdown",
   "id": "4731d8df-67b9-4ee1-b2fa-9e2cc673d56d",
   "metadata": {},
   "source": [
    "# Series\n",
    "Pandas Series is the equivalent of a column of data, and cover their basic properties, creation, manipulation, and useful functions for analysis\n"
   ]
  },
  {
   "cell_type": "code",
   "execution_count": 11,
   "id": "51a1b4f4-171b-4dd7-9e36-45b4cc617ae6",
   "metadata": {
    "tags": []
   },
   "outputs": [
    {
     "data": {
      "text/plain": [
       "array([0, 1, 2, 3, 4])"
      ]
     },
     "execution_count": 11,
     "metadata": {},
     "output_type": "execute_result"
    }
   ],
   "source": [
    "array = np.arange(5)\n",
    "array"
   ]
  },
  {
   "cell_type": "code",
   "execution_count": 24,
   "id": "11bb7d14-95b9-4981-b7dc-3d7a7ecb898e",
   "metadata": {
    "tags": []
   },
   "outputs": [
    {
     "data": {
      "text/plain": [
       "0    0\n",
       "1    1\n",
       "2    2\n",
       "3    3\n",
       "4    4\n",
       "dtype: int32"
      ]
     },
     "execution_count": 24,
     "metadata": {},
     "output_type": "execute_result"
    }
   ],
   "source": [
    "pd.Series(array)"
   ]
  },
  {
   "cell_type": "code",
   "execution_count": 18,
   "id": "20d29740-c533-415b-a9f0-55b4717dca1a",
   "metadata": {
    "tags": []
   },
   "outputs": [],
   "source": [
    "# pd.Series(np.arange(6).reshape(3,2), name=\"Test Array\") -> Throws an error of data must be 1-dimensional"
   ]
  },
  {
   "cell_type": "markdown",
   "id": "48e43af4-6b46-4a67-a6fd-2ce17da5a03c",
   "metadata": {},
   "source": [
    "# Pandas Series Basics\n",
    "\n"
   ]
  },
  {
   "cell_type": "markdown",
   "id": "6efee48b-f185-42de-af9a-6f33a97b1189",
   "metadata": {
    "tags": []
   },
   "source": [
    "- Series also contain an index and an optional name, in addition to the array of data\n",
    "- They can be created from other data types, but are usually imported from external sources\n",
    "- Two or more Series grouped form a Pandas DataFrame"
   ]
  },
  {
   "cell_type": "code",
   "execution_count": 3,
   "id": "e9bc80f7-78b2-4040-8fab-64f202dfbe2a",
   "metadata": {
    "tags": []
   },
   "outputs": [
    {
     "data": {
      "text/plain": [
       "0       0\n",
       "1       5\n",
       "2     155\n",
       "3       0\n",
       "4     518\n",
       "5       0\n",
       "6    1827\n",
       "7     616\n",
       "8     317\n",
       "9     325\n",
       "Name: Sales, dtype: int64"
      ]
     },
     "execution_count": 3,
     "metadata": {},
     "output_type": "execute_result"
    }
   ],
   "source": [
    "sales = [0, 5, 155, 0, 518, 0, 1827, 616, 317, 325]\n",
    "\n",
    "sales_series = pd.Series(sales, name=\"Sales\")\n",
    "\n",
    "sales_series"
   ]
  },
  {
   "cell_type": "code",
   "execution_count": 4,
   "id": "fdc43fd5-5aa7-407d-96e5-72e26a7a65e8",
   "metadata": {
    "tags": []
   },
   "outputs": [],
   "source": [
    "# Pandas series function converts Python lists and Numpy arrays into Pandas Series\n",
    "# The index is an array of integers starting at 0 by default, but it can be modified"
   ]
  },
  {
   "cell_type": "markdown",
   "id": "fcbf2e9e-25c5-4330-8c32-829cd146b7bd",
   "metadata": {},
   "source": [
    "***Pandas Series have these key properties:***\n",
    "- values - the data array in the Series\n",
    "- index - the index array in the Series\n",
    "- name - the optional name for the Series (useful for accessing columns in a DataFrame)\n",
    "- dtype - the data type of the elements in the values array"
   ]
  },
  {
   "cell_type": "code",
   "execution_count": 5,
   "id": "b2231d9b-418b-4597-a373-f1cf7b3a56c7",
   "metadata": {
    "tags": []
   },
   "outputs": [
    {
     "data": {
      "text/plain": [
       "array([   0,    5,  155,    0,  518,    0, 1827,  616,  317,  325],\n",
       "      dtype=int64)"
      ]
     },
     "execution_count": 5,
     "metadata": {},
     "output_type": "execute_result"
    }
   ],
   "source": [
    "sales_series.values"
   ]
  },
  {
   "cell_type": "code",
   "execution_count": 6,
   "id": "7d9f6ac6-fc31-43e9-b15b-860ca9d12440",
   "metadata": {
    "tags": []
   },
   "outputs": [
    {
     "data": {
      "text/plain": [
       "RangeIndex(start=0, stop=10, step=1)"
      ]
     },
     "execution_count": 6,
     "metadata": {},
     "output_type": "execute_result"
    }
   ],
   "source": [
    "sales_series.index"
   ]
  },
  {
   "cell_type": "code",
   "execution_count": 7,
   "id": "6a32b5e4-16d4-44de-8a04-00c5c9b3fa88",
   "metadata": {
    "tags": []
   },
   "outputs": [
    {
     "data": {
      "text/plain": [
       "'Sales'"
      ]
     },
     "execution_count": 7,
     "metadata": {},
     "output_type": "execute_result"
    }
   ],
   "source": [
    "sales_series.name"
   ]
  },
  {
   "cell_type": "code",
   "execution_count": 8,
   "id": "31831429-058a-41dc-9aab-ab6e8121aa54",
   "metadata": {
    "tags": []
   },
   "outputs": [
    {
     "data": {
      "text/plain": [
       "dtype('int64')"
      ]
     },
     "execution_count": 8,
     "metadata": {},
     "output_type": "execute_result"
    }
   ],
   "source": [
    "sales_series.dtype"
   ]
  },
  {
   "cell_type": "code",
   "execution_count": 26,
   "id": "675e5b86-3bda-4bf6-8666-bab8a466a426",
   "metadata": {
    "tags": []
   },
   "outputs": [],
   "source": [
    "# Store the series data array in a variable\n",
    "series = pd.Series(array)"
   ]
  },
  {
   "cell_type": "code",
   "execution_count": 27,
   "id": "eab9cc22-abff-4dfe-b864-5b1eb993492d",
   "metadata": {
    "tags": []
   },
   "outputs": [
    {
     "data": {
      "text/plain": [
       "array([0, 1, 2, 3, 4])"
      ]
     },
     "execution_count": 27,
     "metadata": {},
     "output_type": "execute_result"
    }
   ],
   "source": [
    "# Accessing array values\n",
    "series.values"
   ]
  },
  {
   "cell_type": "code",
   "execution_count": 30,
   "id": "f0ceac02-40ec-40cd-8ef2-13bde8cf201e",
   "metadata": {
    "tags": []
   },
   "outputs": [
    {
     "data": {
      "text/plain": [
       "2.0"
      ]
     },
     "execution_count": 30,
     "metadata": {},
     "output_type": "execute_result"
    }
   ],
   "source": [
    "# Mean operation to series values\n",
    "series.values.mean()"
   ]
  },
  {
   "cell_type": "code",
   "execution_count": 29,
   "id": "8fa70653-c78d-47fc-b002-7fee69eaaea1",
   "metadata": {
    "tags": []
   },
   "outputs": [
    {
     "data": {
      "text/plain": [
       "2.0"
      ]
     },
     "execution_count": 29,
     "metadata": {},
     "output_type": "execute_result"
    }
   ],
   "source": [
    "# Mean operation to series without accessing values\n",
    "series.mean()"
   ]
  },
  {
   "cell_type": "code",
   "execution_count": 31,
   "id": "a76e3f3e-fad2-4140-b136-94654b719952",
   "metadata": {
    "tags": []
   },
   "outputs": [
    {
     "data": {
      "text/plain": [
       "0    0\n",
       "1    1\n",
       "2    2\n",
       "3    3\n",
       "4    4\n",
       "Name: special series, dtype: int32"
      ]
     },
     "execution_count": 31,
     "metadata": {},
     "output_type": "execute_result"
    }
   ],
   "source": [
    "# Changing the name to the series\n",
    "series.name = \"special series\"\n",
    "series"
   ]
  },
  {
   "cell_type": "markdown",
   "id": "f6232a79-ce14-447e-9ee0-1c1e81e3d5ff",
   "metadata": {},
   "source": [
    "## Pandas Data Types\n",
    "\n",
    "Pandas data types mostly expand on their base Python and NumPy equivalents"
   ]
  },
  {
   "attachments": {
    "35c36402-523e-4c36-9453-768a89e35151.png": {
     "image/png": "[encoded data removed]"
    }
   },
   "cell_type": "markdown",
   "id": "bf4ac5ea-9f06-412a-8833-1a3b388cf253",
   "metadata": {},
   "source": [
    "![image.png](attachment:35c36402-523e-4c36-9453-768a89e35151.png)"
   ]
  },
  {
   "cell_type": "markdown",
   "id": "04560ba9-cc29-4941-8aa7-5ea30aba9424",
   "metadata": {},
   "source": [
    "## Type Conversion\n",
    "\n",
    "You can convert the data type in a Pandas Series by using the .astype() method and specifying the desired data type (if compatible)"
   ]
  },
  {
   "cell_type": "code",
   "execution_count": 33,
   "id": "3864bb08-eb9e-4775-ab29-e85d834dcd0e",
   "metadata": {
    "tags": []
   },
   "outputs": [
    {
     "data": {
      "text/plain": [
       "0       0\n",
       "1       5\n",
       "2     155\n",
       "3       0\n",
       "4     518\n",
       "5       0\n",
       "6    1827\n",
       "7     616\n",
       "8     317\n",
       "9     325\n",
       "Name: Sales, dtype: int64"
      ]
     },
     "execution_count": 33,
     "metadata": {},
     "output_type": "execute_result"
    }
   ],
   "source": [
    "sales_series"
   ]
  },
  {
   "cell_type": "code",
   "execution_count": 34,
   "id": "9a7d4088-738a-4605-b02b-606d24875b62",
   "metadata": {
    "tags": []
   },
   "outputs": [
    {
     "data": {
      "text/plain": [
       "0       0.0\n",
       "1       5.0\n",
       "2     155.0\n",
       "3       0.0\n",
       "4     518.0\n",
       "5       0.0\n",
       "6    1827.0\n",
       "7     616.0\n",
       "8     317.0\n",
       "9     325.0\n",
       "Name: Sales, dtype: float64"
      ]
     },
     "execution_count": 34,
     "metadata": {},
     "output_type": "execute_result"
    }
   ],
   "source": [
    "# This converts sales series values to floats\n",
    "sales_series.astype(\"float\")"
   ]
  },
  {
   "cell_type": "code",
   "execution_count": 35,
   "id": "9cfa2f24-d7bf-4b49-b060-9ec9f7e020e7",
   "metadata": {
    "tags": []
   },
   "outputs": [
    {
     "data": {
      "text/plain": [
       "0    False\n",
       "1     True\n",
       "2     True\n",
       "3    False\n",
       "4     True\n",
       "5    False\n",
       "6     True\n",
       "7     True\n",
       "8     True\n",
       "9     True\n",
       "Name: Sales, dtype: bool"
      ]
     },
     "execution_count": 35,
     "metadata": {},
     "output_type": "execute_result"
    }
   ],
   "source": [
    "# This converts sales series values to booleans (0 is False, others are True)\n",
    "sales_series.astype(\"bool\")"
   ]
  },
  {
   "cell_type": "code",
   "execution_count": 36,
   "id": "493cc285-4b81-4873-a1a3-42e6037f1374",
   "metadata": {
    "tags": []
   },
   "outputs": [],
   "source": [
    "# We can also try to convert it into datatime but it has to be compatible\n",
    "# sales_series.astype(\"datetime64)"
   ]
  },
  {
   "cell_type": "markdown",
   "id": "a11f2f5d-0699-4ede-872b-4b89ae43c0a8",
   "metadata": {},
   "source": [
    "# Series Indexing\n",
    "The index lets you easily access \"rows\" in a Pandas Series or DataFrame"
   ]
  },
  {
   "cell_type": "code",
   "execution_count": 4,
   "id": "67b6dc0c-f3f0-42b7-8fa9-1c2de5f47597",
   "metadata": {
    "tags": []
   },
   "outputs": [
    {
     "data": {
      "text/plain": [
       "0      0\n",
       "1      5\n",
       "2    155\n",
       "3      0\n",
       "4    518\n",
       "Name: Sales, dtype: int64"
      ]
     },
     "execution_count": 4,
     "metadata": {},
     "output_type": "execute_result"
    }
   ],
   "source": [
    "# Here we use default integer index, which is preferred\n",
    "sales = [0, 5, 155, 0, 518]\n",
    "sales_series = pd.Series(sales, name=\"Sales\")\n",
    "sales_series"
   ]
  },
  {
   "cell_type": "code",
   "execution_count": 5,
   "id": "7f86e6e6-e6ce-4fc8-829f-baf634a4a91f",
   "metadata": {},
   "outputs": [
    {
     "data": {
      "text/plain": [
       "155"
      ]
     },
     "execution_count": 5,
     "metadata": {},
     "output_type": "execute_result"
    }
   ],
   "source": [
    "# Indexing series (there is a better method for panda's data structures)\n",
    "sales_series[2]"
   ]
  },
  {
   "cell_type": "code",
   "execution_count": 6,
   "id": "06495906",
   "metadata": {},
   "outputs": [
    {
     "data": {
      "text/plain": [
       "2    155\n",
       "3      0\n",
       "Name: Sales, dtype: int64"
      ]
     },
     "execution_count": 6,
     "metadata": {},
     "output_type": "execute_result"
    }
   ],
   "source": [
    "# Slicing series (there is a better method for panda's data structures)\n",
    "sales_series[2:4]"
   ]
  },
  {
   "cell_type": "markdown",
   "id": "13ea8481",
   "metadata": {},
   "source": [
    "## Custom Indices\n",
    "There are cases where it's applicable to use a custom index for acessing rows"
   ]
  },
  {
   "cell_type": "code",
   "execution_count": 8,
   "id": "1eaa39e4",
   "metadata": {},
   "outputs": [
    {
     "data": {
      "text/plain": [
       "coffee       0\n",
       "bananas      5\n",
       "tea        155\n",
       "coconut      0\n",
       "sugar      518\n",
       "Name: Sales, dtype: int64"
      ]
     },
     "execution_count": 8,
     "metadata": {},
     "output_type": "execute_result"
    }
   ],
   "source": [
    "sales = [0, 5, 155, 0, 518]\n",
    "items = [\"coffee\", \"bananas\", \"tea\", \"coconut\", \"sugar\"]\n",
    "\n",
    "sales_series = pd.Series(sales, index=items, name=\"Sales\")\n",
    "sales_series"
   ]
  },
  {
   "cell_type": "code",
   "execution_count": 9,
   "id": "62ce1e34",
   "metadata": {},
   "outputs": [
    {
     "data": {
      "text/plain": [
       "coffee       0\n",
       "bananas      5\n",
       "tea        155\n",
       "coconut      0\n",
       "sugar      518\n",
       "Name: Sales, dtype: int64"
      ]
     },
     "execution_count": 9,
     "metadata": {},
     "output_type": "execute_result"
    }
   ],
   "source": [
    "# Custom indices can be asigned when creating the series or by assignment\n",
    "sales_series.index = [\"coffee\", \"bananas\", \"tea\", \"coconut\", \"sugar\"]\n",
    "sales_series"
   ]
  },
  {
   "cell_type": "code",
   "execution_count": 10,
   "id": "f2f8d993",
   "metadata": {},
   "outputs": [
    {
     "data": {
      "text/plain": [
       "155"
      ]
     },
     "execution_count": 10,
     "metadata": {},
     "output_type": "execute_result"
    }
   ],
   "source": [
    "# Accesing values through custom indices\n",
    "sales_series[\"tea\"]"
   ]
  },
  {
   "cell_type": "code",
   "execution_count": 11,
   "id": "d9c62347",
   "metadata": {},
   "outputs": [
    {
     "data": {
      "text/plain": [
       "bananas      5\n",
       "tea        155\n",
       "coconut      0\n",
       "Name: Sales, dtype: int64"
      ]
     },
     "execution_count": 11,
     "metadata": {},
     "output_type": "execute_result"
    }
   ],
   "source": [
    "# Accesing values through custom slicing (they make the stop inclusive)\n",
    "sales_series[\"bananas\":\"coconut\"]"
   ]
  },
  {
   "cell_type": "markdown",
   "id": "c8e087dc",
   "metadata": {},
   "source": [
    "## The Iloc Method\n",
    "The .iloc[] method is the preferred way to access values by their positional index\n",
    "\n",
    "- This method works even when Series have a custom, non-integer index\n",
    "- It is more efficient than slicing and is recomended by Pandas' creators\n",
    "\n",
    "**Sintax:** df.iloc[row position, column position]\n",
    "\n",
    "**df** can be either a series or a dataframe to access values from\n",
    "\n",
    "**row position** is the row position(s) for the value(s) you want to access\n",
    "\n",
    "**column position** is the column position(s) for the value(s) you want to access\n",
    "\n",
    "Examples:\n",
    "- 0 (single row)\n",
    "- [5, 9] (multiple rows)\n",
    "- [0:11] (range of rows)"
   ]
  },
  {
   "cell_type": "code",
   "execution_count": 12,
   "id": "8bb0a505",
   "metadata": {},
   "outputs": [
    {
     "data": {
      "text/plain": [
       "coffee       0\n",
       "bananas      5\n",
       "tea        155\n",
       "coconut      0\n",
       "sugar      518\n",
       "Name: Sales, dtype: int64"
      ]
     },
     "execution_count": 12,
     "metadata": {},
     "output_type": "execute_result"
    }
   ],
   "source": [
    "sales_series"
   ]
  },
  {
   "cell_type": "code",
   "execution_count": 13,
   "id": "c2308ce7",
   "metadata": {},
   "outputs": [
    {
     "data": {
      "text/plain": [
       "155"
      ]
     },
     "execution_count": 13,
     "metadata": {},
     "output_type": "execute_result"
    }
   ],
   "source": [
    "# This returns the value in the 3rd position even though the custom index for\n",
    "# that value is \"tea\"\n",
    "sales_series.iloc[2]"
   ]
  },
  {
   "cell_type": "code",
   "execution_count": 14,
   "id": "3dd339f1",
   "metadata": {},
   "outputs": [
    {
     "data": {
      "text/plain": [
       "tea        155\n",
       "coconut      0\n",
       "Name: Sales, dtype: int64"
      ]
     },
     "execution_count": 14,
     "metadata": {},
     "output_type": "execute_result"
    }
   ],
   "source": [
    "# This returns the values from the 3rd to the 4th position (stop is non-inclusive)\n",
    "sales_series.iloc[2:4]"
   ]
  },
  {
   "cell_type": "markdown",
   "id": "7976949e",
   "metadata": {},
   "source": [
    "## The Loc Method\n",
    "The .loc[] method is the preferred way to access values by their custom labels\n",
    "\n",
    "**Sintax:** df.loc[row label, column label]\n",
    "\n",
    "**df** series or dataframe to access values from\n",
    "**row label** the custom row index for the value(s) you want to access\n",
    "**column label** the custom column index for the value(s) you want to access\n",
    "\n",
    "**Examples:**\n",
    "- \"pizza\" (single row)\n",
    "- [\"mike\", \"ike\"] (multiple rows)\n",
    "- [\"jan\", \"dec\"] (range of rows)"
   ]
  },
  {
   "cell_type": "code",
   "execution_count": 15,
   "id": "e0e725f9",
   "metadata": {},
   "outputs": [
    {
     "data": {
      "text/plain": [
       "coffee       0\n",
       "bananas      5\n",
       "tea        155\n",
       "coconut      0\n",
       "sugar      518\n",
       "Name: Sales, dtype: int64"
      ]
     },
     "execution_count": 15,
     "metadata": {},
     "output_type": "execute_result"
    }
   ],
   "source": [
    "sales_series"
   ]
  },
  {
   "cell_type": "code",
   "execution_count": 16,
   "id": "0d756263",
   "metadata": {},
   "outputs": [
    {
     "data": {
      "text/plain": [
       "155"
      ]
     },
     "execution_count": 16,
     "metadata": {},
     "output_type": "execute_result"
    }
   ],
   "source": [
    "sales_series.loc[\"tea\"]"
   ]
  },
  {
   "cell_type": "code",
   "execution_count": 18,
   "id": "15658195",
   "metadata": {},
   "outputs": [
    {
     "data": {
      "text/plain": [
       "bananas      5\n",
       "tea        155\n",
       "coconut      0\n",
       "Name: Sales, dtype: int64"
      ]
     },
     "execution_count": 18,
     "metadata": {},
     "output_type": "execute_result"
    }
   ],
   "source": [
    "# Note that slices are inclusive when using custom labels\n",
    "sales_series.loc[\"bananas\":\"coconut\"]"
   ]
  },
  {
   "cell_type": "markdown",
   "id": "4c11b180",
   "metadata": {},
   "source": [
    "The **.loc[]** method works even when the indices are integers, but if they are custom integers not ordered from 0 to n-1, the rows will be returned based on the **labels** themselves and NOT their numeric position"
   ]
  },
  {
   "cell_type": "markdown",
   "id": "71b2eab6",
   "metadata": {},
   "source": [
    "## Duplicate Index Values\n",
    "It is possible to have duplicate index values in a Pandas Series or DataFrame\n",
    "\n",
    "- Accessing these indices by their label using .loc[] returns all corresponding rows"
   ]
  },
  {
   "cell_type": "code",
   "execution_count": 21,
   "id": "3f289be8",
   "metadata": {},
   "outputs": [
    {
     "data": {
      "text/plain": [
       "coffee       0\n",
       "coffee       5\n",
       "tea        155\n",
       "coconut      0\n",
       "sugar      518\n",
       "Name: Sales, dtype: int64"
      ]
     },
     "execution_count": 21,
     "metadata": {},
     "output_type": "execute_result"
    }
   ],
   "source": [
    "sales = [0, 5, 155, 0, 518]\n",
    "items = [\"coffee\", \"coffee\", \"tea\", \"coconut\", \"sugar\"]\n",
    "\n",
    "sales_series = pd.Series(sales, index=items, name=\"Sales\")\n",
    "sales_series\n",
    "\n",
    "# Note that 'coffee' is used as an index value twice"
   ]
  },
  {
   "cell_type": "code",
   "execution_count": 22,
   "id": "96f18bbc",
   "metadata": {},
   "outputs": [
    {
     "data": {
      "text/plain": [
       "coffee    0\n",
       "coffee    5\n",
       "Name: Sales, dtype: int64"
      ]
     },
     "execution_count": 22,
     "metadata": {},
     "output_type": "execute_result"
    }
   ],
   "source": [
    "# This returns both rows with the same label\n",
    "\n",
    "sales_series.loc[\"coffee\"]"
   ]
  },
  {
   "cell_type": "markdown",
   "id": "be0a2f54",
   "metadata": {},
   "source": [
    "## Resetting the Index\n",
    "You can reset the index in a Pandas Series or DataFrame back to the default range of integers by using the .reset_index() method.\n",
    "\n",
    "- By default, the existing index will become a new column in a DataFrame\n"
   ]
  },
  {
   "cell_type": "code",
   "execution_count": 24,
   "id": "7d6ef367",
   "metadata": {},
   "outputs": [
    {
     "data": {
      "text/plain": [
       "coffee       0\n",
       "coffee       5\n",
       "tea        155\n",
       "coconut      0\n",
       "sugar      518\n",
       "Name: Sales, dtype: int64"
      ]
     },
     "execution_count": 24,
     "metadata": {},
     "output_type": "execute_result"
    }
   ],
   "source": [
    "sales_series"
   ]
  },
  {
   "cell_type": "code",
   "execution_count": 26,
   "id": "8c51f4ea",
   "metadata": {},
   "outputs": [
    {
     "data": {
      "text/html": [
       "<div>\n",
       "<style scoped>\n",
       "    .dataframe tbody tr th:only-of-type {\n",
       "        vertical-align: middle;\n",
       "    }\n",
       "\n",
       "    .dataframe tbody tr th {\n",
       "        vertical-align: top;\n",
       "    }\n",
       "\n",
       "    .dataframe thead th {\n",
       "        text-align: right;\n",
       "    }\n",
       "</style>\n",
       "<table border=\"1\" class=\"dataframe\">\n",
       "  <thead>\n",
       "    <tr style=\"text-align: right;\">\n",
       "      <th></th>\n",
       "      <th>index</th>\n",
       "      <th>Sales</th>\n",
       "    </tr>\n",
       "  </thead>\n",
       "  <tbody>\n",
       "    <tr>\n",
       "      <th>0</th>\n",
       "      <td>coffee</td>\n",
       "      <td>0</td>\n",
       "    </tr>\n",
       "    <tr>\n",
       "      <th>1</th>\n",
       "      <td>coffee</td>\n",
       "      <td>5</td>\n",
       "    </tr>\n",
       "    <tr>\n",
       "      <th>2</th>\n",
       "      <td>tea</td>\n",
       "      <td>155</td>\n",
       "    </tr>\n",
       "    <tr>\n",
       "      <th>3</th>\n",
       "      <td>coconut</td>\n",
       "      <td>0</td>\n",
       "    </tr>\n",
       "    <tr>\n",
       "      <th>4</th>\n",
       "      <td>sugar</td>\n",
       "      <td>518</td>\n",
       "    </tr>\n",
       "  </tbody>\n",
       "</table>\n",
       "</div>"
      ],
      "text/plain": [
       "     index  Sales\n",
       "0   coffee      0\n",
       "1   coffee      5\n",
       "2      tea    155\n",
       "3  coconut      0\n",
       "4    sugar    518"
      ]
     },
     "execution_count": 26,
     "metadata": {},
     "output_type": "execute_result"
    }
   ],
   "source": [
    "# This returns a DataFrame by default, with the previous index values stored as\n",
    "# a new column to avoid lose data\n",
    "\n",
    "sales_series.reset_index()"
   ]
  },
  {
   "cell_type": "code",
   "execution_count": 27,
   "id": "cf0a8012",
   "metadata": {},
   "outputs": [
    {
     "data": {
      "text/plain": [
       "0      0\n",
       "1      5\n",
       "2    155\n",
       "3      0\n",
       "4    518\n",
       "Name: Sales, dtype: int64"
      ]
     },
     "execution_count": 27,
     "metadata": {},
     "output_type": "execute_result"
    }
   ],
   "source": [
    "# Use drop = True when resetting the index if you don't want the previous index\n",
    "# values restored\n",
    "\n",
    "sales_series.reset_index(drop=True)"
   ]
  },
  {
   "cell_type": "markdown",
   "id": "3b6da162",
   "metadata": {},
   "source": [
    "# Sorting & Filtering Series\n",
    "\n",
    "## Filtering Series\n",
    "\n",
    "You can filter a Series by passing a logical test into the .loc[] accessor (like arrays)"
   ]
  },
  {
   "cell_type": "code",
   "execution_count": 28,
   "id": "2661bc8e",
   "metadata": {},
   "outputs": [
    {
     "data": {
      "text/plain": [
       "coffee       0\n",
       "coffee       5\n",
       "tea        155\n",
       "coconut      0\n",
       "sugar      518\n",
       "Name: Sales, dtype: int64"
      ]
     },
     "execution_count": 28,
     "metadata": {},
     "output_type": "execute_result"
    }
   ],
   "source": [
    "sales_series"
   ]
  },
  {
   "cell_type": "code",
   "execution_count": 30,
   "id": "406c0297",
   "metadata": {},
   "outputs": [
    {
     "data": {
      "text/plain": [
       "coffee      5\n",
       "tea       155\n",
       "sugar     518\n",
       "Name: Sales, dtype: int64"
      ]
     },
     "execution_count": 30,
     "metadata": {},
     "output_type": "execute_result"
    }
   ],
   "source": [
    "# This returns all rows from sales_series with a value grater than 0\n",
    "\n",
    "sales_series.loc[sales_series > 0]"
   ]
  },
  {
   "cell_type": "code",
   "execution_count": 31,
   "id": "c57a4645",
   "metadata": {},
   "outputs": [
    {
     "data": {
      "text/plain": [
       "coffee    5\n",
       "Name: Sales, dtype: int64"
      ]
     },
     "execution_count": 31,
     "metadata": {},
     "output_type": "execute_result"
    }
   ],
   "source": [
    "# This uses a mask to store complex logic and returns all rows from\n",
    "# sales_series with a greater than 0 and an index equal to \"coffee\"\n",
    "\n",
    "mask = (sales_series > 0) & (sales_series.index == \"coffee\")\n",
    "\n",
    "sales_series.loc[mask]"
   ]
  },
  {
   "cell_type": "markdown",
   "id": "ffb588a3",
   "metadata": {},
   "source": [
    "## Logical Operators & Methods\n",
    "\n",
    "You can use these operators & methods to create Boolean filters for logical tests"
   ]
  },
  {
   "cell_type": "code",
   "execution_count": 32,
   "id": "6f632fad",
   "metadata": {},
   "outputs": [
    {
     "data": {
      "text/plain": [
       "coffee     False\n",
       "coffee      True\n",
       "tea        False\n",
       "coconut    False\n",
       "sugar      False\n",
       "Name: Sales, dtype: bool"
      ]
     },
     "execution_count": 32,
     "metadata": {},
     "output_type": "execute_result"
    }
   ],
   "source": [
    "# Python operator\n",
    "sales_series == 5"
   ]
  },
  {
   "cell_type": "code",
   "execution_count": 33,
   "id": "53933320",
   "metadata": {},
   "outputs": [
    {
     "data": {
      "text/plain": [
       "coffee     False\n",
       "coffee      True\n",
       "tea        False\n",
       "coconut    False\n",
       "sugar      False\n",
       "Name: Sales, dtype: bool"
      ]
     },
     "execution_count": 33,
     "metadata": {},
     "output_type": "execute_result"
    }
   ],
   "source": [
    "# Pandas method\n",
    "sales_series.eq(5)"
   ]
  },
  {
   "cell_type": "code",
   "execution_count": 34,
   "id": "e2fa4355",
   "metadata": {},
   "outputs": [
    {
     "data": {
      "text/plain": [
       "array([ True,  True,  True, False, False])"
      ]
     },
     "execution_count": 34,
     "metadata": {},
     "output_type": "execute_result"
    }
   ],
   "source": [
    "sales_series.index.isin([\"coffee\",\"tea\"])"
   ]
  },
  {
   "cell_type": "code",
   "execution_count": 36,
   "id": "d151ce7b",
   "metadata": {},
   "outputs": [
    {
     "data": {
      "text/plain": [
       "array([False, False, False,  True,  True])"
      ]
     },
     "execution_count": 36,
     "metadata": {},
     "output_type": "execute_result"
    }
   ],
   "source": [
    "# The tilde ~ inverts boolean values\n",
    "\n",
    "~sales_series.index.isin([\"coffee\",\"tea\"])"
   ]
  },
  {
   "cell_type": "markdown",
   "id": "6676d023",
   "metadata": {},
   "source": [
    "### Excercises"
   ]
  },
  {
   "cell_type": "code",
   "execution_count": 37,
   "id": "87ebe361",
   "metadata": {},
   "outputs": [
    {
     "data": {
      "text/plain": [
       "day 0    0\n",
       "day 1    1\n",
       "day 2    2\n",
       "day 3    3\n",
       "day 4    4\n",
       "dtype: int64"
      ]
     },
     "execution_count": 37,
     "metadata": {},
     "output_type": "execute_result"
    }
   ],
   "source": [
    "my_series = pd.Series(\n",
    "    [0,1,2,3,4], index=[\"day 0\", \"day 1\", \"day 2\", \"day 3\", \"day 4\",]\n",
    ")\n",
    "my_series"
   ]
  },
  {
   "cell_type": "code",
   "execution_count": 38,
   "id": "f869f0bb",
   "metadata": {},
   "outputs": [
    {
     "data": {
      "text/plain": [
       "day 0    0\n",
       "day 3    3\n",
       "day 4    4\n",
       "dtype: int64"
      ]
     },
     "execution_count": 38,
     "metadata": {},
     "output_type": "execute_result"
    }
   ],
   "source": [
    "my_series.loc[~my_series.isin([1,2])]"
   ]
  },
  {
   "cell_type": "code",
   "execution_count": 39,
   "id": "b4301fec",
   "metadata": {},
   "outputs": [
    {
     "data": {
      "text/plain": [
       "day 3    3\n",
       "day 4    4\n",
       "dtype: int64"
      ]
     },
     "execution_count": 39,
     "metadata": {},
     "output_type": "execute_result"
    }
   ],
   "source": [
    "my_series.loc[my_series > 2]"
   ]
  },
  {
   "cell_type": "code",
   "execution_count": 40,
   "id": "f87d3bb7",
   "metadata": {},
   "outputs": [
    {
     "data": {
      "text/plain": [
       "day 1    1\n",
       "day 2    2\n",
       "day 3    3\n",
       "day 4    4\n",
       "dtype: int64"
      ]
     },
     "execution_count": 40,
     "metadata": {},
     "output_type": "execute_result"
    }
   ],
   "source": [
    "mask = (my_series.isin([1,2])) | (my_series > 2)\n",
    "my_series.loc[mask]"
   ]
  },
  {
   "cell_type": "markdown",
   "id": "ee6388e3",
   "metadata": {},
   "source": [
    "## Sorting Series\n",
    "You can sort series by their values or their index\n",
    "\n",
    "- The **.sort_values()** method sorts a series by its values in ascending order\n",
    "- The **.sort_index()** method sorts a series by its index in ascending order\n",
    "\n",
    "ascending parametrer can be set to (ascending=False)"
   ]
  },
  {
   "cell_type": "code",
   "execution_count": 45,
   "id": "d148e9df",
   "metadata": {},
   "outputs": [
    {
     "data": {
      "text/plain": [
       "day 0    4\n",
       "day 1    0\n",
       "day 2    2\n",
       "day 3    3\n",
       "day 4    1\n",
       "dtype: int64"
      ]
     },
     "execution_count": 45,
     "metadata": {},
     "output_type": "execute_result"
    }
   ],
   "source": [
    "my_series = pd.Series(\n",
    "    [4,0,2,3,1], index=[\"day 0\", \"day 1\", \"day 2\", \"day 3\", \"day 4\",]\n",
    ")\n",
    "my_series"
   ]
  },
  {
   "cell_type": "code",
   "execution_count": 49,
   "id": "b198c5b9",
   "metadata": {},
   "outputs": [
    {
     "data": {
      "text/plain": [
       "day 0    4\n",
       "day 3    3\n",
       "day 2    2\n",
       "day 4    1\n",
       "day 1    0\n",
       "dtype: int64"
      ]
     },
     "execution_count": 49,
     "metadata": {},
     "output_type": "execute_result"
    }
   ],
   "source": [
    "my_series.sort_values(ascending=False)"
   ]
  },
  {
   "cell_type": "code",
   "execution_count": 54,
   "id": "e402bb15",
   "metadata": {},
   "outputs": [],
   "source": [
    "my_series.sort_index(ascending=False)"
   ]
  },
  {
   "cell_type": "markdown",
   "id": "375f66ab",
   "metadata": {},
   "source": [
    "## Arithmetic Operators & Methods\n",
    "\n",
    "You can use these operatos & methods to perform numeric operations on Series"
   ]
  },
  {
   "cell_type": "code",
   "execution_count": 56,
   "id": "05a1170e",
   "metadata": {
    "scrolled": true
   },
   "outputs": [
    {
     "data": {
      "text/plain": [
       "0      0\n",
       "1      5\n",
       "2    155\n",
       "3      0\n",
       "4    518\n",
       "dtype: int64"
      ]
     },
     "execution_count": 56,
     "metadata": {},
     "output_type": "execute_result"
    }
   ],
   "source": [
    "monday_sales = pd.Series(\n",
    "    [0,5,155,0,518], index=[0,1,2,3,4]\n",
    ")\n",
    "monday_sales"
   ]
  },
  {
   "cell_type": "code",
   "execution_count": 59,
   "id": "9fcee98a",
   "metadata": {},
   "outputs": [
    {
     "data": {
      "text/plain": [
       "0      2\n",
       "1      7\n",
       "2    157\n",
       "3      2\n",
       "4    520\n",
       "dtype: int64"
      ]
     },
     "execution_count": 59,
     "metadata": {},
     "output_type": "execute_result"
    }
   ],
   "source": [
    "# Both add two to every row but this is kind of better\n",
    "monday_sales + 2"
   ]
  },
  {
   "cell_type": "code",
   "execution_count": 58,
   "id": "eabeb185",
   "metadata": {},
   "outputs": [
    {
     "data": {
      "text/plain": [
       "0      2\n",
       "1      7\n",
       "2    157\n",
       "3      2\n",
       "4    520\n",
       "dtype: int64"
      ]
     },
     "execution_count": 58,
     "metadata": {},
     "output_type": "execute_result"
    }
   ],
   "source": [
    "monday_sales.add(2)"
   ]
  },
  {
   "cell_type": "code",
   "execution_count": 62,
   "id": "954ba4b9",
   "metadata": {},
   "outputs": [
    {
     "data": {
      "text/plain": [
       "0      $0.0\n",
       "1      $5.0\n",
       "2    $155.0\n",
       "3      $0.0\n",
       "4    $518.0\n",
       "dtype: string"
      ]
     },
     "execution_count": 62,
     "metadata": {},
     "output_type": "execute_result"
    }
   ],
   "source": [
    "# This uses string arithmetic to add a dollar sign, converts to float to add \n",
    "# decimals then converts back to a string\n",
    "\"$\" + monday_sales.astype(\"float\").astype(\"string\")"
   ]
  },
  {
   "cell_type": "code",
   "execution_count": 63,
   "id": "4ca75d0c",
   "metadata": {},
   "outputs": [
    {
     "data": {
      "text/plain": [
       "day 0    1.0\n",
       "day 1    NaN\n",
       "day 2    2.0\n",
       "day 3    3.0\n",
       "day 4    4.0\n",
       "dtype: float64"
      ]
     },
     "execution_count": 63,
     "metadata": {},
     "output_type": "execute_result"
    }
   ],
   "source": [
    "# If there is a missing value for example NaN we can do this\n",
    "my_series = pd.Series(\n",
    "    [1, np.NaN, 2, 3, 4], index=[\"day 0\", \"day 1\", \"day 2\", \"day 3\", \"day 4\",]\n",
    ")\n",
    "my_series"
   ]
  },
  {
   "cell_type": "code",
   "execution_count": 64,
   "id": "31999e63",
   "metadata": {},
   "outputs": [
    {
     "data": {
      "text/plain": [
       "day 0    2.0\n",
       "day 1    1.0\n",
       "day 2    3.0\n",
       "day 3    4.0\n",
       "day 4    5.0\n",
       "dtype: float64"
      ]
     },
     "execution_count": 64,
     "metadata": {},
     "output_type": "execute_result"
    }
   ],
   "source": [
    "# fill_value argument fills with the value specified any missing value\n",
    "my_series.add(1, fill_value=0)"
   ]
  },
  {
   "cell_type": "markdown",
   "id": "107d54cd",
   "metadata": {},
   "source": [
    "## String Methods\n",
    "The Pandas str accessor lets you access many string methods\n",
    "\n",
    "- These methods all return a Series (split returns multiple series)"
   ]
  },
  {
   "cell_type": "code",
   "execution_count": 65,
   "id": "22c8d68f",
   "metadata": {},
   "outputs": [
    {
     "data": {
      "text/plain": [
       "0     $3.99\n",
       "1     $5.99\n",
       "2    $22.99\n",
       "3     $7.99\n",
       "4    $33.99\n",
       "dtype: object"
      ]
     },
     "execution_count": 65,
     "metadata": {},
     "output_type": "execute_result"
    }
   ],
   "source": [
    "prices = pd.Series(\n",
    "    [\"$3.99\", \"$5.99\", \"$22.99\", \"$7.99\", \"$33.99\",], index=[0,1,2,3,4]\n",
    ")\n",
    "prices"
   ]
  },
  {
   "cell_type": "code",
   "execution_count": 66,
   "id": "951e343b",
   "metadata": {},
   "outputs": [
    {
     "data": {
      "text/plain": [
       "0     True\n",
       "1    False\n",
       "2    False\n",
       "3    False\n",
       "4     True\n",
       "dtype: bool"
      ]
     },
     "execution_count": 66,
     "metadata": {},
     "output_type": "execute_result"
    }
   ],
   "source": [
    "# The str accessor lets you access the string methods\n",
    "prices.str.contains(\"3\")"
   ]
  },
  {
   "cell_type": "code",
   "execution_count": 68,
   "id": "0757b5ca",
   "metadata": {},
   "outputs": [
    {
     "data": {
      "text/plain": [
       "0     3.99\n",
       "1     5.99\n",
       "2    22.99\n",
       "3     7.99\n",
       "4    33.99\n",
       "dtype: float64"
      ]
     },
     "execution_count": 68,
     "metadata": {},
     "output_type": "execute_result"
    }
   ],
   "source": [
    "# This is removing the dollar sign, then converting to float\n",
    "clean = prices.str.strip(\"$\").astype(\"float\")\n",
    "clean"
   ]
  },
  {
   "cell_type": "code",
   "execution_count": null,
   "id": "ea76488e",
   "metadata": {},
   "outputs": [],
   "source": []
  }
 ],
 "metadata": {
  "kernelspec": {
   "display_name": "Python 3 (ipykernel)",
   "language": "python",
   "name": "python3"
  },
  "language_info": {
   "codemirror_mode": {
    "name": "ipython",
    "version": 3
   },
   "file_extension": ".py",
   "mimetype": "text/x-python",
   "name": "python",
   "nbconvert_exporter": "python",
   "pygments_lexer": "ipython3",
   "version": "3.11.5"
  }
 },
 "nbformat": 4,
 "nbformat_minor": 5
}
