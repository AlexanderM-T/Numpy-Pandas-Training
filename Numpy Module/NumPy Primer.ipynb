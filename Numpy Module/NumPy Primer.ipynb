{
 "cells": [
  {
   "cell_type": "code",
   "execution_count": 1,
   "id": "92b4d044",
   "metadata": {},
   "outputs": [],
   "source": [
    "import numpy as np"
   ]
  },
  {
   "cell_type": "markdown",
   "id": "d879af4c",
   "metadata": {},
   "source": [
    "# Numpy Array Basics"
   ]
  },
  {
   "cell_type": "code",
   "execution_count": 37,
   "id": "4fe9fdfb",
   "metadata": {},
   "outputs": [
    {
     "data": {
      "text/plain": [
       "array([0, 1, 2, 3, 4])"
      ]
     },
     "execution_count": 37,
     "metadata": {},
     "output_type": "execute_result"
    }
   ],
   "source": [
    "# This creates a new 1D numpy array\n",
    "array = np.array(range(5))\n",
    "array"
   ]
  },
  {
   "cell_type": "code",
   "execution_count": 13,
   "id": "c7817e88",
   "metadata": {},
   "outputs": [
    {
     "data": {
      "text/plain": [
       "array([[0, 1, 2, 3, 4],\n",
       "       [0, 1, 2, 3, 4]])"
      ]
     },
     "execution_count": 13,
     "metadata": {},
     "output_type": "execute_result"
    }
   ],
   "source": [
    "# This creates a new 2D numpy array\n",
    "array_2d = np.array([range(5), range(5)])\n",
    "array_2d"
   ]
  },
  {
   "cell_type": "code",
   "execution_count": 14,
   "id": "01fd0c24",
   "metadata": {},
   "outputs": [
    {
     "data": {
      "text/plain": [
       "array([[1, 2, 3, 4, 5],\n",
       "       [1, 2, 3, 4, 5]])"
      ]
     },
     "execution_count": 14,
     "metadata": {},
     "output_type": "execute_result"
    }
   ],
   "source": [
    "# Simple operation of adding 1 to each element\n",
    "array_2d + 1 "
   ]
  },
  {
   "cell_type": "code",
   "execution_count": 17,
   "id": "94ff2bb7",
   "metadata": {},
   "outputs": [
    {
     "data": {
      "text/plain": [
       "(5,)"
      ]
     },
     "execution_count": 17,
     "metadata": {},
     "output_type": "execute_result"
    }
   ],
   "source": [
    "# (5,) means 1 column of data with 5 elements\n",
    "array.shape "
   ]
  },
  {
   "cell_type": "code",
   "execution_count": 18,
   "id": "b862c324",
   "metadata": {},
   "outputs": [
    {
     "data": {
      "text/plain": [
       "5"
      ]
     },
     "execution_count": 18,
     "metadata": {},
     "output_type": "execute_result"
    }
   ],
   "source": [
    "# 5 means 5 elements of data\n",
    "array.size "
   ]
  },
  {
   "cell_type": "code",
   "execution_count": 19,
   "id": "fd2ac56e",
   "metadata": {},
   "outputs": [
    {
     "data": {
      "text/plain": [
       "(2, 5)"
      ]
     },
     "execution_count": 19,
     "metadata": {},
     "output_type": "execute_result"
    }
   ],
   "source": [
    "# (2,5) means 2 columns of data with 5 elements\n",
    "array_2d.shape "
   ]
  },
  {
   "cell_type": "code",
   "execution_count": 21,
   "id": "a84317f0",
   "metadata": {},
   "outputs": [
    {
     "data": {
      "text/plain": [
       "10"
      ]
     },
     "execution_count": 21,
     "metadata": {},
     "output_type": "execute_result"
    }
   ],
   "source": [
    "# 10 means 10 elements of data\n",
    "array_2d.size "
   ]
  },
  {
   "cell_type": "code",
   "execution_count": 22,
   "id": "4abe47ee",
   "metadata": {},
   "outputs": [
    {
     "data": {
      "text/plain": [
       "array([[0, 0],\n",
       "       [1, 1],\n",
       "       [2, 2],\n",
       "       [3, 3],\n",
       "       [4, 4]])"
      ]
     },
     "execution_count": 22,
     "metadata": {},
     "output_type": "execute_result"
    }
   ],
   "source": [
    "# T is the transpose method, it will essentially swap our axes\n",
    "array_2d.T "
   ]
  },
  {
   "cell_type": "code",
   "execution_count": 23,
   "id": "0c5ec671",
   "metadata": {},
   "outputs": [
    {
     "data": {
      "text/plain": [
       "2"
      ]
     },
     "execution_count": 23,
     "metadata": {},
     "output_type": "execute_result"
    }
   ],
   "source": [
    "# means 2 dimention\n",
    "array_2d.ndim "
   ]
  },
  {
   "cell_type": "code",
   "execution_count": 24,
   "id": "b9841b93",
   "metadata": {},
   "outputs": [
    {
     "data": {
      "text/plain": [
       "dtype('int32')"
      ]
     },
     "execution_count": 24,
     "metadata": {},
     "output_type": "execute_result"
    }
   ],
   "source": [
    "# means what datatype is stored in the array\n",
    "array_2d.dtype "
   ]
  },
  {
   "cell_type": "code",
   "execution_count": 25,
   "id": "c1a8645b",
   "metadata": {},
   "outputs": [
    {
     "data": {
      "text/plain": [
       "array(['I', 'love', 'Python'], dtype='<U6')"
      ]
     },
     "execution_count": 25,
     "metadata": {},
     "output_type": "execute_result"
    }
   ],
   "source": [
    "# Non-integer array\n",
    "np.array(['I','love','Python']) "
   ]
  },
  {
   "cell_type": "markdown",
   "id": "eaee8b01",
   "metadata": {},
   "source": [
    "# Array Creation"
   ]
  },
  {
   "cell_type": "code",
   "execution_count": 30,
   "id": "1b9af966",
   "metadata": {},
   "outputs": [
    {
     "data": {
      "text/plain": [
       "array([[1, 1],\n",
       "       [1, 1]])"
      ]
     },
     "execution_count": 30,
     "metadata": {},
     "output_type": "execute_result"
    }
   ],
   "source": [
    "# Creates an array of ones of a given size, as float by default\n",
    "np.ones((2,2), 'int32') "
   ]
  },
  {
   "cell_type": "code",
   "execution_count": 44,
   "id": "cbb985c2",
   "metadata": {},
   "outputs": [
    {
     "data": {
      "text/plain": [
       "array([[0, 0],\n",
       "       [0, 0]])"
      ]
     },
     "execution_count": 44,
     "metadata": {},
     "output_type": "execute_result"
    }
   ],
   "source": [
    "# Creates an array of zeros of a given size, as float by default\n",
    "np.zeros((2,2), dtype=int) "
   ]
  },
  {
   "cell_type": "code",
   "execution_count": 34,
   "id": "f12bb6e7",
   "metadata": {},
   "outputs": [
    {
     "data": {
      "text/plain": [
       "array([1, 2, 3, 4])"
      ]
     },
     "execution_count": 34,
     "metadata": {},
     "output_type": "execute_result"
    }
   ],
   "source": [
    "# Creates an array of integers with given start & stop values, and a step size (only stop is required, and is not inclusive)\n",
    "# (start, stop, step) Start is 0 and step is 1 by default\n",
    "np.arange(1,5,1)"
   ]
  },
  {
   "cell_type": "code",
   "execution_count": 43,
   "id": "39b92b02",
   "metadata": {},
   "outputs": [
    {
     "data": {
      "text/plain": [
       "array([  0.,  25.,  50.,  75., 100.])"
      ]
     },
     "execution_count": 43,
     "metadata": {},
     "output_type": "execute_result"
    }
   ],
   "source": [
    "# Creates an array of floats with given start & stop values with n elements, separated by a consistent step size (stop is inclusive)\n",
    "np.linspace(0, 100, 5) "
   ]
  },
  {
   "cell_type": "code",
   "execution_count": 45,
   "id": "bc6df779",
   "metadata": {},
   "outputs": [
    {
     "data": {
      "text/plain": [
       "array([[1, 3],\n",
       "       [5, 7]])"
      ]
     },
     "execution_count": 45,
     "metadata": {},
     "output_type": "execute_result"
    }
   ],
   "source": [
    "# Changes an array into specified dimensions (rows, cols)\n",
    "np.arange(1,9,2).reshape(2,2) "
   ]
  },
  {
   "cell_type": "code",
   "execution_count": 46,
   "id": "620b5bf0",
   "metadata": {},
   "outputs": [
    {
     "data": {
      "text/plain": [
       "array([[0, 0, 0, 0, 0, 0, 0, 0, 0, 0],\n",
       "       [0, 0, 0, 0, 0, 0, 0, 0, 0, 0],\n",
       "       [0, 0, 0, 0, 0, 0, 0, 0, 0, 0],\n",
       "       [0, 0, 0, 0, 0, 0, 0, 0, 0, 0],\n",
       "       [0, 0, 0, 0, 0, 0, 0, 0, 0, 0],\n",
       "       [0, 0, 0, 0, 0, 0, 0, 0, 0, 0],\n",
       "       [0, 0, 0, 0, 0, 0, 0, 0, 0, 0],\n",
       "       [0, 0, 0, 0, 0, 0, 0, 0, 0, 0],\n",
       "       [0, 0, 0, 0, 0, 0, 0, 0, 0, 0],\n",
       "       [0, 0, 0, 0, 0, 0, 0, 0, 0, 0]])"
      ]
     },
     "execution_count": 46,
     "metadata": {},
     "output_type": "execute_result"
    }
   ],
   "source": [
    "# 100 zeros reshaped to 10x10 matrix\n",
    "np.zeros(100, 'int').reshape(10,10)"
   ]
  },
  {
   "cell_type": "code",
   "execution_count": 51,
   "id": "38ad3e98",
   "metadata": {},
   "outputs": [
    {
     "data": {
      "text/plain": [
       "array([0.22733602, 0.31675834, 0.79736546, 0.67625467, 0.39110955,\n",
       "       0.33281393, 0.59830875, 0.18673419, 0.67275604, 0.94180287])"
      ]
     },
     "execution_count": 51,
     "metadata": {},
     "output_type": "execute_result"
    }
   ],
   "source": [
    "from numpy.random import default_rng\n",
    "\n",
    "# Here we create a random number generator with specific seed\n",
    "rng = default_rng(12345)\n",
    "\n",
    "# Creating a seed is important to ensure you and others can recreate the work\n",
    "\n",
    "# Returns n random numbers from a uniform distribution between 0 and 1\n",
    "random_array = rng.random(10)\n",
    "random_array"
   ]
  },
  {
   "cell_type": "code",
   "execution_count": 52,
   "id": "81344540",
   "metadata": {},
   "outputs": [
    {
     "data": {
      "text/plain": [
       "array([3.57617496, 6.26372846, 4.12933826, 4.74082677, 4.92465669,\n",
       "       4.25911535, 3.6322073 , 5.6488928 , 5.36105811, 3.04713694])"
      ]
     },
     "execution_count": 52,
     "metadata": {},
     "output_type": "execute_result"
    }
   ],
   "source": [
    "rng = default_rng(12345)\n",
    "mean, stddev = 5, 1\n",
    "\n",
    "# Returns n random numbers from a normal distribution with a given mean and standard deviation\n",
    "random_normal = rng.normal(mean, stddev, size=10)\n",
    "random_normal"
   ]
  },
  {
   "cell_type": "code",
   "execution_count": 53,
   "id": "5c081a57",
   "metadata": {},
   "outputs": [
    {
     "data": {
      "text/plain": [
       "array([7, 2, 9, 9, 7, 6, 1, 0, 2, 4, 0, 8, 4, 6, 2, 3, 1, 7, 7, 2, 7, 0,\n",
       "       3, 1, 7, 3, 4, 4, 4, 2, 5, 8, 4, 1, 0, 1, 0, 0, 1, 5, 8, 8, 6, 6,\n",
       "       3, 9, 6, 7, 7, 8, 7, 9, 5, 5, 2, 9, 5, 4, 3, 2, 6, 4, 5, 6, 8, 3,\n",
       "       6, 9, 4, 2, 2, 3, 6, 2, 8, 3, 0, 0, 0, 6, 3, 2, 6, 0, 5, 6, 0, 1,\n",
       "       3, 3, 9, 4, 6, 1, 8, 2, 7, 4, 4, 4], dtype=int64)"
      ]
     },
     "execution_count": 53,
     "metadata": {},
     "output_type": "execute_result"
    }
   ],
   "source": [
    "# 100 Random integers from 0 to 10\n",
    "rng.integers(0, 10, 100)"
   ]
  },
  {
   "cell_type": "markdown",
   "id": "91d3fe02",
   "metadata": {},
   "source": [
    "# Array Indexing & Slicing"
   ]
  },
  {
   "cell_type": "markdown",
   "id": "ce304692",
   "metadata": {},
   "source": [
    "### Indexing & Slicing one-dimensional array\n",
    "Indexing to access a single element (0-indexed)\n",
    "`array[index]`\n",
    "\n",
    "Slicing to access a series of elements (stop is not inclusive)\n",
    "`array[start:stop:step]`"
   ]
  },
  {
   "cell_type": "code",
   "execution_count": 79,
   "id": "42c236a5",
   "metadata": {},
   "outputs": [
    {
     "name": "stdout",
     "output_type": "stream",
     "text": [
      "vegetables\n",
      "spices\n"
     ]
    }
   ],
   "source": [
    "# Getting elements by indexing\n",
    "product_array = np.array(['fruits', 'vegetables', 'cereal', 'dairy','eggs',\n",
    "                          'snacks', 'beverages','coffee','tea', 'spices'])\n",
    "print(product_array[1])\n",
    "print(product_array[-1])"
   ]
  },
  {
   "cell_type": "code",
   "execution_count": 66,
   "id": "24e60cad",
   "metadata": {},
   "outputs": [
    {
     "data": {
      "text/plain": [
       "array(['fruits', 'vegetables', 'cereal', 'coffee', 'eggs'], dtype='<U10')"
      ]
     },
     "execution_count": 66,
     "metadata": {},
     "output_type": "execute_result"
    }
   ],
   "source": [
    "# Getting elements by slicing\n",
    "product_array[:5] # Default start point is 0 and default step is 1"
   ]
  },
  {
   "cell_type": "code",
   "execution_count": 68,
   "id": "d5c86005",
   "metadata": {},
   "outputs": [
    {
     "data": {
      "text/plain": [
       "array(['vegetables', 'coffee'], dtype='<U10')"
      ]
     },
     "execution_count": 68,
     "metadata": {},
     "output_type": "execute_result"
    }
   ],
   "source": [
    "# [start:stop:step] here we have [start::step] stop default is the last index\n",
    "product_array[1::2]"
   ]
  },
  {
   "cell_type": "markdown",
   "id": "5fc50d89",
   "metadata": {},
   "source": [
    "### Indexing & Slicing two-dimensional array\n",
    "Indexing to access a single element (0-indexed) `array[row index, column index]`\n",
    "\n",
    "Slicing to access a series of elements `array[start:stop:step, start:stop:step]`"
   ]
  },
  {
   "cell_type": "code",
   "execution_count": 98,
   "id": "a6a342a4",
   "metadata": {},
   "outputs": [
    {
     "name": "stdout",
     "output_type": "stream",
     "text": [
      "coffee\n"
     ]
    }
   ],
   "source": [
    "# Getting elements by indexing\n",
    "product_array2D = product_array.reshape(2,5)\n",
    "product_array2D\n",
    "\n",
    "# This goes to the second row and grabs the third element\n",
    "print(product_array2D[1,2])"
   ]
  },
  {
   "cell_type": "code",
   "execution_count": 82,
   "id": "f146f26e",
   "metadata": {},
   "outputs": [
    {
     "data": {
      "text/plain": [
       "array([['cereal', 'dairy', 'eggs'],\n",
       "       ['coffee', 'tea', 'spices']], dtype='<U10')"
      ]
     },
     "execution_count": 82,
     "metadata": {},
     "output_type": "execute_result"
    }
   ],
   "source": [
    "# Getting elements by slicing\n",
    "\n",
    "# This goes all rows and grabs all elements starting from the third in each row\n",
    "product_array2D[:, 2:]"
   ]
  },
  {
   "cell_type": "code",
   "execution_count": 83,
   "id": "a4b2d84a",
   "metadata": {},
   "outputs": [
    {
     "data": {
      "text/plain": [
       "array([['snacks', 'beverages', 'coffee', 'tea', 'spices']], dtype='<U10')"
      ]
     },
     "execution_count": 83,
     "metadata": {},
     "output_type": "execute_result"
    }
   ],
   "source": [
    "# This goes to the second row and grabs all its elements\n",
    "product_array2D[1:, :]"
   ]
  },
  {
   "cell_type": "markdown",
   "id": "eb29f77a",
   "metadata": {},
   "source": [
    "### Excercises"
   ]
  },
  {
   "cell_type": "code",
   "execution_count": 84,
   "id": "a7bf408d",
   "metadata": {},
   "outputs": [],
   "source": [
    "integer_array = np.arange(12)"
   ]
  },
  {
   "cell_type": "code",
   "execution_count": 85,
   "id": "7e453e40",
   "metadata": {},
   "outputs": [
    {
     "data": {
      "text/plain": [
       "array([ 0,  1,  2,  3,  4,  5,  6,  7,  8,  9, 10, 11])"
      ]
     },
     "execution_count": 85,
     "metadata": {},
     "output_type": "execute_result"
    }
   ],
   "source": [
    "integer_array"
   ]
  },
  {
   "cell_type": "code",
   "execution_count": 86,
   "id": "3f52c4f7",
   "metadata": {},
   "outputs": [
    {
     "data": {
      "text/plain": [
       "0"
      ]
     },
     "execution_count": 86,
     "metadata": {},
     "output_type": "execute_result"
    }
   ],
   "source": [
    "integer_array[0]"
   ]
  },
  {
   "cell_type": "code",
   "execution_count": 88,
   "id": "53931b0d",
   "metadata": {},
   "outputs": [
    {
     "data": {
      "text/plain": [
       "11"
      ]
     },
     "execution_count": 88,
     "metadata": {},
     "output_type": "execute_result"
    }
   ],
   "source": [
    "integer_array[-1]"
   ]
  },
  {
   "cell_type": "code",
   "execution_count": 89,
   "id": "8eac63c3",
   "metadata": {},
   "outputs": [
    {
     "data": {
      "text/plain": [
       "array([ 0,  1,  2,  3,  4,  5,  6,  7,  8,  9, 10, 11])"
      ]
     },
     "execution_count": 89,
     "metadata": {},
     "output_type": "execute_result"
    }
   ],
   "source": [
    "integer_array[:]"
   ]
  },
  {
   "cell_type": "code",
   "execution_count": 90,
   "id": "6fe0b207",
   "metadata": {},
   "outputs": [
    {
     "data": {
      "text/plain": [
       "array([ 0,  2,  4,  6,  8, 10])"
      ]
     },
     "execution_count": 90,
     "metadata": {},
     "output_type": "execute_result"
    }
   ],
   "source": [
    "integer_array[::2]"
   ]
  },
  {
   "cell_type": "code",
   "execution_count": 92,
   "id": "5b243007",
   "metadata": {},
   "outputs": [
    {
     "data": {
      "text/plain": [
       "array([[ 0,  1,  2,  3],\n",
       "       [ 4,  5,  6,  7],\n",
       "       [ 8,  9, 10, 11]])"
      ]
     },
     "execution_count": 92,
     "metadata": {},
     "output_type": "execute_result"
    }
   ],
   "source": [
    "new_array = integer_array.reshape(3,4)\n",
    "new_array"
   ]
  },
  {
   "cell_type": "code",
   "execution_count": 93,
   "id": "ecdcff81",
   "metadata": {},
   "outputs": [
    {
     "data": {
      "text/plain": [
       "array([[ 0,  1,  2,  3],\n",
       "       [ 4,  5,  6,  7],\n",
       "       [ 8,  9, 10, 11]])"
      ]
     },
     "execution_count": 93,
     "metadata": {},
     "output_type": "execute_result"
    }
   ],
   "source": [
    "new_array[:, :]"
   ]
  },
  {
   "cell_type": "code",
   "execution_count": 94,
   "id": "e439761b",
   "metadata": {},
   "outputs": [
    {
     "data": {
      "text/plain": [
       "array([[ 4,  5,  6,  7],\n",
       "       [ 8,  9, 10, 11]])"
      ]
     },
     "execution_count": 94,
     "metadata": {},
     "output_type": "execute_result"
    }
   ],
   "source": [
    "new_array[1:, :]"
   ]
  },
  {
   "cell_type": "code",
   "execution_count": 95,
   "id": "ae5c06b5",
   "metadata": {},
   "outputs": [
    {
     "data": {
      "text/plain": [
       "array([ 3,  7, 11])"
      ]
     },
     "execution_count": 95,
     "metadata": {},
     "output_type": "execute_result"
    }
   ],
   "source": [
    "new_array[:, 3]"
   ]
  },
  {
   "cell_type": "code",
   "execution_count": 96,
   "id": "4bea4074",
   "metadata": {},
   "outputs": [
    {
     "data": {
      "text/plain": [
       "array([[ 1,  2,  3],\n",
       "       [ 5,  6,  7],\n",
       "       [ 9, 10, 11]])"
      ]
     },
     "execution_count": 96,
     "metadata": {},
     "output_type": "execute_result"
    }
   ],
   "source": [
    "new_array[:, 1:]"
   ]
  },
  {
   "cell_type": "code",
   "execution_count": 97,
   "id": "a7ac3f46",
   "metadata": {},
   "outputs": [
    {
     "data": {
      "text/plain": [
       "9"
      ]
     },
     "execution_count": 97,
     "metadata": {},
     "output_type": "execute_result"
    }
   ],
   "source": [
    "new_array[2,1]"
   ]
  },
  {
   "cell_type": "markdown",
   "id": "69268161",
   "metadata": {},
   "source": [
    "# Array Operations\n",
    "\n",
    "Arithmetic operators can be used to perform array operations\n"
   ]
  },
  {
   "cell_type": "code",
   "execution_count": 99,
   "id": "9db2ec5e",
   "metadata": {},
   "outputs": [
    {
     "data": {
      "text/plain": [
       "array([[   0,    5,  155,    0,  518],\n",
       "       [   0, 1827,  616,  317,  325]])"
      ]
     },
     "execution_count": 99,
     "metadata": {},
     "output_type": "execute_result"
    }
   ],
   "source": [
    "sales = [[0,5,155,0,518], [0,1827,616,317,325]]\n",
    "sales_array = np.array(sales)\n",
    "sales_array"
   ]
  },
  {
   "cell_type": "code",
   "execution_count": 100,
   "id": "83785834",
   "metadata": {},
   "outputs": [
    {
     "data": {
      "text/plain": [
       "array([[   2,    7,  157,    2,  520],\n",
       "       [   2, 1829,  618,  319,  327]])"
      ]
     },
     "execution_count": 100,
     "metadata": {},
     "output_type": "execute_result"
    }
   ],
   "source": [
    "# This adds 2 to every element in the array\n",
    "sales_array + 2"
   ]
  },
  {
   "cell_type": "code",
   "execution_count": 101,
   "id": "a563a29a",
   "metadata": {},
   "outputs": [
    {
     "data": {
      "text/plain": [
       "array([     0,   9135,  95480,      0, 168350])"
      ]
     },
     "execution_count": 101,
     "metadata": {},
     "output_type": "execute_result"
    }
   ],
   "source": [
    "# This assigns all elements in the first row to quantity and \n",
    "# in the second row to price\n",
    "# Finally it multiplies the corresponding elements in each array\n",
    "quantity = sales_array[0, :]\n",
    "price = sales_array[1, :]\n",
    "\n",
    "quantity * price"
   ]
  },
  {
   "cell_type": "code",
   "execution_count": 200,
   "id": "f68dc521",
   "metadata": {},
   "outputs": [
    {
     "data": {
      "text/plain": [
       "array([0, 2, 4, 6, 8])"
      ]
     },
     "execution_count": 200,
     "metadata": {},
     "output_type": "execute_result"
    }
   ],
   "source": [
    "# This array operations are applied via vectorization and broadcasting,\n",
    "# which eliminates the need to loop through the array's elements"
   ]
  },
  {
   "cell_type": "markdown",
   "id": "0b456ec4",
   "metadata": {},
   "source": [
    "# Filtering Arrays\n",
    "You can filter arrays by indexing them with a logical test\n",
    "- Only the array elements in positions where the logical test returns True are returned"
   ]
  },
  {
   "cell_type": "code",
   "execution_count": 103,
   "id": "d1675350",
   "metadata": {},
   "outputs": [
    {
     "data": {
      "text/plain": [
       "array([[   0,    5,  155,    0,  518],\n",
       "       [   0, 1827,  616,  317,  325]])"
      ]
     },
     "execution_count": 103,
     "metadata": {},
     "output_type": "execute_result"
    }
   ],
   "source": [
    "sales_array"
   ]
  },
  {
   "cell_type": "code",
   "execution_count": 104,
   "id": "c0e7c2ed",
   "metadata": {},
   "outputs": [
    {
     "data": {
      "text/plain": [
       "array([[False,  True,  True, False,  True],\n",
       "       [False,  True,  True,  True,  True]])"
      ]
     },
     "execution_count": 104,
     "metadata": {},
     "output_type": "execute_result"
    }
   ],
   "source": [
    "# Performing a logical test on a NumPy array returns a Boolean array with\n",
    "# the results of the logical test on each array element\n",
    "sales_array != 0"
   ]
  },
  {
   "cell_type": "code",
   "execution_count": 105,
   "id": "c54025f9",
   "metadata": {},
   "outputs": [
    {
     "data": {
      "text/plain": [
       "array([   5,  155,  518, 1827,  616,  317,  325])"
      ]
     },
     "execution_count": 105,
     "metadata": {},
     "output_type": "execute_result"
    }
   ],
   "source": [
    "# So we can use that array to do some filtering operations... :)\n",
    "sales_array[sales_array != 0]"
   ]
  },
  {
   "cell_type": "code",
   "execution_count": 107,
   "id": "0f05a585",
   "metadata": {},
   "outputs": [
    {
     "data": {
      "text/plain": [
       "array([  0,   5,   0,   0, 616])"
      ]
     },
     "execution_count": 107,
     "metadata": {},
     "output_type": "execute_result"
    }
   ],
   "source": [
    "sales_array[(sales_array == 616) | (sales_array < 100)]"
   ]
  },
  {
   "cell_type": "code",
   "execution_count": 108,
   "id": "3a56d4c1",
   "metadata": {},
   "outputs": [
    {
     "data": {
      "text/plain": [
       "array([155, 317, 325])"
      ]
     },
     "execution_count": 108,
     "metadata": {},
     "output_type": "execute_result"
    }
   ],
   "source": [
    "sales_array[(sales_array > 100) & (sales_array < 500)]"
   ]
  },
  {
   "cell_type": "code",
   "execution_count": 109,
   "id": "989e37f4",
   "metadata": {},
   "outputs": [
    {
     "data": {
      "text/plain": [
       "array([155, 317, 325])"
      ]
     },
     "execution_count": 109,
     "metadata": {},
     "output_type": "execute_result"
    }
   ],
   "source": [
    "# Pro Tip: Store complex filtering criteria in a variable\n",
    "# Usually known as Boolean mask\n",
    "mask = (sales_array > 100) & (sales_array < 500)\n",
    "sales_array[mask]"
   ]
  },
  {
   "cell_type": "code",
   "execution_count": 136,
   "id": "20d862f2",
   "metadata": {},
   "outputs": [],
   "source": [
    "# You can filter arrays based on values in other arrays\n",
    "\n",
    "sales_arr = [0,5,155,0,518]\n",
    "sales_filter = np.array(sales_arr)"
   ]
  },
  {
   "cell_type": "code",
   "execution_count": 137,
   "id": "af983516",
   "metadata": {},
   "outputs": [],
   "source": [
    "product_arr = ['fruits','vegetables','cereal','dairy','eggs',]\n",
    "product_filter = np.array(product_arr)"
   ]
  },
  {
   "cell_type": "code",
   "execution_count": 138,
   "id": "9e0a1adc",
   "metadata": {},
   "outputs": [
    {
     "data": {
      "text/plain": [
       "array(['vegetables', 'cereal', 'eggs'], dtype='<U10')"
      ]
     },
     "execution_count": 138,
     "metadata": {},
     "output_type": "execute_result"
    }
   ],
   "source": [
    "product_filter[sales_filter > 0]"
   ]
  },
  {
   "cell_type": "code",
   "execution_count": 139,
   "id": "08d2f88f",
   "metadata": {},
   "outputs": [
    {
     "data": {
      "text/plain": [
       "array([  0,  25, 155,   0, 518])"
      ]
     },
     "execution_count": 139,
     "metadata": {},
     "output_type": "execute_result"
    }
   ],
   "source": [
    "# You can modify array values by assigning new ones\n",
    "sales_filter[1] = 25\n",
    "sales_filter"
   ]
  },
  {
   "cell_type": "code",
   "execution_count": 140,
   "id": "cc78d8ad",
   "metadata": {},
   "outputs": [
    {
     "data": {
      "text/plain": [
       "array([  5,  25, 155,   5, 518])"
      ]
     },
     "execution_count": 140,
     "metadata": {},
     "output_type": "execute_result"
    }
   ],
   "source": [
    "# Filters the zero values and assigns them a new value of 5\n",
    "sales_filter[sales_filter == 0] = 5\n",
    "sales_filter"
   ]
  },
  {
   "cell_type": "markdown",
   "id": "9eec251c",
   "metadata": {},
   "source": [
    "# The Where Function\n",
    "The where() NumPy function performs a logical test and returns a given value if the test is True, or another if the test is False\n",
    "\n",
    "Sintax: np.where(logical test, value if True, value if False)"
   ]
  },
  {
   "cell_type": "code",
   "execution_count": 143,
   "id": "7afd729d",
   "metadata": {},
   "outputs": [
    {
     "data": {
      "text/plain": [
       "array([ 0,  1,  2,  3,  4,  5,  6,  7,  8,  9, 10, 11, 12, 13, 14, 15, 16,\n",
       "       17, 18, 19])"
      ]
     },
     "execution_count": 143,
     "metadata": {},
     "output_type": "execute_result"
    }
   ],
   "source": [
    "my_array = np.arange(20)\n",
    "my_array"
   ]
  },
  {
   "cell_type": "code",
   "execution_count": 144,
   "id": "f3502016",
   "metadata": {},
   "outputs": [
    {
     "data": {
      "text/plain": [
       "array(['even', 'odd', 'even', 'odd', 'even', 'odd', 'even', 'odd', 'even',\n",
       "       'odd', 'even', 'odd', 'even', 'odd', 'even', 'odd', 'even', 'odd',\n",
       "       'even', 'odd'], dtype='<U4')"
      ]
     },
     "execution_count": 144,
     "metadata": {},
     "output_type": "execute_result"
    }
   ],
   "source": [
    "np.where(my_array % 2 == 0, 'even', 'odd')"
   ]
  },
  {
   "cell_type": "code",
   "execution_count": 145,
   "id": "abbe336d",
   "metadata": {},
   "outputs": [
    {
     "data": {
      "text/plain": [
       "array(['even', 'odd', 'even', 'odd', 'even', 'odd', 'even', 'odd', 'even',\n",
       "       '9', 'even', 'odd', 'even', 'odd', 'even', 'odd', 'even', 'odd',\n",
       "       'even', 'odd'], dtype='<U11')"
      ]
     },
     "execution_count": 145,
     "metadata": {},
     "output_type": "execute_result"
    }
   ],
   "source": [
    "np.where(my_array % 2 == 0, 'even', np.where(my_array == 9, my_array, 'odd'))"
   ]
  },
  {
   "cell_type": "markdown",
   "id": "c1ad71bc",
   "metadata": {},
   "source": [
    "# Array Aggregation Methods\n",
    "Array aggregation methods let you calculate metrics like sum, mean, and max"
   ]
  },
  {
   "cell_type": "code",
   "execution_count": 146,
   "id": "24ab98f4",
   "metadata": {},
   "outputs": [
    {
     "data": {
      "text/plain": [
       "array([[   0,    5,  155,    0,  518],\n",
       "       [   0, 1827,  616,  317,  325]])"
      ]
     },
     "execution_count": 146,
     "metadata": {},
     "output_type": "execute_result"
    }
   ],
   "source": [
    "sales_array"
   ]
  },
  {
   "cell_type": "code",
   "execution_count": 147,
   "id": "eb43bf8e",
   "metadata": {},
   "outputs": [
    {
     "data": {
      "text/plain": [
       "3763"
      ]
     },
     "execution_count": 147,
     "metadata": {},
     "output_type": "execute_result"
    }
   ],
   "source": [
    "# Returns the sum of all values in an array\n",
    "sales_array.sum()"
   ]
  },
  {
   "cell_type": "code",
   "execution_count": 148,
   "id": "b4b1697b",
   "metadata": {},
   "outputs": [
    {
     "data": {
      "text/plain": [
       "376.3"
      ]
     },
     "execution_count": 148,
     "metadata": {},
     "output_type": "execute_result"
    }
   ],
   "source": [
    "# Returns the average of the values in an array\n",
    "sales_array.mean()"
   ]
  },
  {
   "cell_type": "code",
   "execution_count": 149,
   "id": "e60bed2e",
   "metadata": {},
   "outputs": [
    {
     "data": {
      "text/plain": [
       "1827"
      ]
     },
     "execution_count": 149,
     "metadata": {},
     "output_type": "execute_result"
    }
   ],
   "source": [
    "# Returns the largest value in the array\n",
    "sales_array.max()"
   ]
  },
  {
   "cell_type": "code",
   "execution_count": 159,
   "id": "13a86286",
   "metadata": {},
   "outputs": [
    {
     "data": {
      "text/plain": [
       "0"
      ]
     },
     "execution_count": 159,
     "metadata": {},
     "output_type": "execute_result"
    }
   ],
   "source": [
    "# Returns the smallest value in an array\n",
    "sales_array.min()"
   ]
  },
  {
   "cell_type": "code",
   "execution_count": 160,
   "id": "2d95459d",
   "metadata": {},
   "outputs": [
    {
     "data": {
      "text/plain": [
       "529.1366647662965"
      ]
     },
     "execution_count": 160,
     "metadata": {},
     "output_type": "execute_result"
    }
   ],
   "source": [
    "# Returns the standard deviation\n",
    "sales_array.std()"
   ]
  },
  {
   "cell_type": "code",
   "execution_count": 158,
   "id": "2cd25cb0",
   "metadata": {},
   "outputs": [
    {
     "data": {
      "text/plain": [
       "array([   0, 1832,  771,  317,  843])"
      ]
     },
     "execution_count": 158,
     "metadata": {},
     "output_type": "execute_result"
    }
   ],
   "source": [
    "# You can also aggregate across rows or columns\n",
    "\n",
    "# Agregates across rows\n",
    "sales_array.sum(axis=0)"
   ]
  },
  {
   "cell_type": "code",
   "execution_count": 157,
   "id": "7e437796",
   "metadata": {},
   "outputs": [
    {
     "data": {
      "text/plain": [
       "array([ 678, 3085])"
      ]
     },
     "execution_count": 157,
     "metadata": {},
     "output_type": "execute_result"
    }
   ],
   "source": [
    "# Agregates across columns\n",
    "sales_array.sum(axis=1)"
   ]
  },
  {
   "cell_type": "markdown",
   "id": "1c3206ff",
   "metadata": {},
   "source": [
    "# Array Operations\n",
    "Array functions let you perform other aggregations like median and percentiles"
   ]
  },
  {
   "cell_type": "code",
   "execution_count": 162,
   "id": "d5c632fe",
   "metadata": {},
   "outputs": [
    {
     "data": {
      "text/plain": [
       "array([[   0,    5,  155,    0,  518],\n",
       "       [   0, 1827,  616,  317,  325]])"
      ]
     },
     "execution_count": 162,
     "metadata": {},
     "output_type": "execute_result"
    }
   ],
   "source": [
    "sales_array"
   ]
  },
  {
   "cell_type": "code",
   "execution_count": 163,
   "id": "1944c401",
   "metadata": {},
   "outputs": [
    {
     "data": {
      "text/plain": [
       "236.0"
      ]
     },
     "execution_count": 163,
     "metadata": {},
     "output_type": "execute_result"
    }
   ],
   "source": [
    "# Returns the median value in an array\n",
    "np.median(sales_array)"
   ]
  },
  {
   "cell_type": "code",
   "execution_count": 164,
   "id": "975978e5",
   "metadata": {},
   "outputs": [
    {
     "data": {
      "text/plain": [
       "737.0999999999996"
      ]
     },
     "execution_count": 164,
     "metadata": {},
     "output_type": "execute_result"
    }
   ],
   "source": [
    "# Returns a value in the nth percentile in an array\n",
    "np.percentile(sales_array, 90)"
   ]
  },
  {
   "cell_type": "code",
   "execution_count": 165,
   "id": "ac2ee84f",
   "metadata": {},
   "outputs": [
    {
     "data": {
      "text/plain": [
       "array([   0,    5,  155,  317,  325,  518,  616, 1827])"
      ]
     },
     "execution_count": 165,
     "metadata": {},
     "output_type": "execute_result"
    }
   ],
   "source": [
    "# Returns the unique values in an array\n",
    "np.unique(sales_array)"
   ]
  },
  {
   "cell_type": "code",
   "execution_count": 167,
   "id": "5edb8940",
   "metadata": {},
   "outputs": [
    {
     "data": {
      "text/plain": [
       "array([[ 0.        ,  2.23606798, 12.4498996 ,  0.        , 22.75961335],\n",
       "       [ 0.        , 42.74342055, 24.81934729, 17.80449381, 18.02775638]])"
      ]
     },
     "execution_count": 167,
     "metadata": {},
     "output_type": "execute_result"
    }
   ],
   "source": [
    "# Returns the square root of each value of the array\n",
    "np.sqrt(sales_array)"
   ]
  },
  {
   "cell_type": "markdown",
   "id": "b8b1634d",
   "metadata": {},
   "source": [
    "## Sorting Arrays\n",
    "The sort() method will sort arrays in place"
   ]
  },
  {
   "cell_type": "code",
   "execution_count": 168,
   "id": "8ff9cbb5",
   "metadata": {},
   "outputs": [
    {
     "data": {
      "text/plain": [
       "array([[   0,    5,  155,    0,  518],\n",
       "       [   0, 1827,  616,  317,  325]])"
      ]
     },
     "execution_count": 168,
     "metadata": {},
     "output_type": "execute_result"
    }
   ],
   "source": [
    "sales_array"
   ]
  },
  {
   "cell_type": "code",
   "execution_count": 169,
   "id": "2bc80368",
   "metadata": {},
   "outputs": [
    {
     "data": {
      "text/plain": [
       "array([[   0,    0,    5,  155,  518],\n",
       "       [   0,  317,  325,  616, 1827]])"
      ]
     },
     "execution_count": 169,
     "metadata": {},
     "output_type": "execute_result"
    }
   ],
   "source": [
    "# Use the axis argument to specify the dimension to sort by\n",
    "# Axis=1 by default, which sorts a two-dimensional array row by row\n",
    "\n",
    "sales_array.sort() \n",
    "sales_array"
   ]
  },
  {
   "cell_type": "code",
   "execution_count": 172,
   "id": "fbb4cfbd",
   "metadata": {},
   "outputs": [
    {
     "data": {
      "text/plain": [
       "array([[   0,    0,    5,  155,  518],\n",
       "       [   0,  317,  325,  616, 1827]])"
      ]
     },
     "execution_count": 172,
     "metadata": {},
     "output_type": "execute_result"
    }
   ],
   "source": [
    "sales_array.sort(axis=0)\n",
    "sales_array"
   ]
  },
  {
   "cell_type": "markdown",
   "id": "9c9990c1",
   "metadata": {},
   "source": [
    "# Vectorization\n",
    "Vectorization is the process of pushing array operations into optimized C code, which is easier and more efficient than writing for loops"
   ]
  },
  {
   "cell_type": "code",
   "execution_count": 180,
   "id": "e00d79e1",
   "metadata": {},
   "outputs": [],
   "source": [
    "def for_loop_multiply_lists(list1, list2):\n",
    "    product_list = []\n",
    "    for element1, element2 in zip(list1, list2):\n",
    "        product_list.append(element1 * element2)\n",
    "    return product_list\n",
    "\n",
    "def multiply_arrays(array1, array2):\n",
    "    return array1 * array2"
   ]
  },
  {
   "cell_type": "code",
   "execution_count": 178,
   "id": "4e132128",
   "metadata": {},
   "outputs": [],
   "source": [
    "list1 = list(range(1000))\n",
    "list2 = list(range(1000))"
   ]
  },
  {
   "cell_type": "code",
   "execution_count": 181,
   "id": "4727e5ab",
   "metadata": {},
   "outputs": [
    {
     "name": "stdout",
     "output_type": "stream",
     "text": [
      "67.5 µs ± 1.45 µs per loop (mean ± std. dev. of 5 runs, 10,000 loops each)\n"
     ]
    }
   ],
   "source": [
    "%%timeit -r 5 -n 10000\n",
    "for_loop_multiply_lists(list1, list2)"
   ]
  },
  {
   "cell_type": "code",
   "execution_count": 182,
   "id": "ff177e88",
   "metadata": {},
   "outputs": [],
   "source": [
    "array1 = np.array(list1)\n",
    "array2 = np.array(list2)"
   ]
  },
  {
   "cell_type": "code",
   "execution_count": 183,
   "id": "0f1e11c2",
   "metadata": {},
   "outputs": [
    {
     "name": "stdout",
     "output_type": "stream",
     "text": [
      "1.52 µs ± 80.7 ns per loop (mean ± std. dev. of 5 runs, 10,000 loops each)\n"
     ]
    }
   ],
   "source": [
    "%%timeit -r 5 -n 10000\n",
    "multiply_arrays(array1, array2)"
   ]
  },
  {
   "cell_type": "code",
   "execution_count": 184,
   "id": "71455bce",
   "metadata": {},
   "outputs": [],
   "source": [
    "# Pro Tip: use vectorized operations whenever possible when manipulating data,\n",
    "# and avoid writing loops"
   ]
  },
  {
   "cell_type": "markdown",
   "id": "513b7d81",
   "metadata": {},
   "source": [
    "# Broadcasting\n",
    "Broadcasting lets you perform vectorized operations with arrays of different sizes, where NumPy will expand the smaller array to 'fit' the larger one\n",
    "\n",
    "- Single values (scalars) can be broadcast into arrays of any dimension\n",
    "- Dimensions with a length grater than one must be the same size"
   ]
  },
  {
   "cell_type": "code",
   "execution_count": 185,
   "id": "05ce66dd",
   "metadata": {},
   "outputs": [
    {
     "data": {
      "text/plain": [
       "array([[1, 2, 3],\n",
       "       [1, 2, 3],\n",
       "       [1, 2, 3]])"
      ]
     },
     "execution_count": 185,
     "metadata": {},
     "output_type": "execute_result"
    }
   ],
   "source": [
    "test_array = np.array([[1,2,3],[1,2,3],[1,2,3]])\n",
    "test_array"
   ]
  },
  {
   "cell_type": "code",
   "execution_count": 186,
   "id": "14ba1979",
   "metadata": {},
   "outputs": [
    {
     "data": {
      "text/plain": [
       "array([[2, 3, 4],\n",
       "       [2, 3, 4],\n",
       "       [2, 3, 4]])"
      ]
     },
     "execution_count": 186,
     "metadata": {},
     "output_type": "execute_result"
    }
   ],
   "source": [
    "test_array + 1"
   ]
  },
  {
   "cell_type": "code",
   "execution_count": 187,
   "id": "b3d97899",
   "metadata": {},
   "outputs": [],
   "source": [
    "# Behind the scenes, there is another 3x3 matrix created filled by 1\n",
    "# So te operation can be done by adding both matrices"
   ]
  },
  {
   "cell_type": "code",
   "execution_count": 188,
   "id": "a08d2ddf",
   "metadata": {},
   "outputs": [
    {
     "data": {
      "text/plain": [
       "array([[4, 4, 4],\n",
       "       [4, 4, 4],\n",
       "       [4, 4, 4]])"
      ]
     },
     "execution_count": 188,
     "metadata": {},
     "output_type": "execute_result"
    }
   ],
   "source": [
    "test_array + np.array([3,2,1])"
   ]
  },
  {
   "cell_type": "code",
   "execution_count": 189,
   "id": "38b4a533",
   "metadata": {},
   "outputs": [],
   "source": [
    "# Behind the scenes, we again fill out a 3x3 matrix with 3,2,1"
   ]
  },
  {
   "cell_type": "code",
   "execution_count": 190,
   "id": "7ac1126f",
   "metadata": {},
   "outputs": [
    {
     "data": {
      "text/plain": [
       "array([[4, 5, 6],\n",
       "       [3, 4, 5],\n",
       "       [2, 3, 4]])"
      ]
     },
     "execution_count": 190,
     "metadata": {},
     "output_type": "execute_result"
    }
   ],
   "source": [
    "test_array + np.array([3,2,1]).reshape(3,1)"
   ]
  },
  {
   "cell_type": "code",
   "execution_count": 191,
   "id": "6565b4db",
   "metadata": {},
   "outputs": [],
   "source": [
    "# Behind the scenes, it is filled out a 3x3 matrix to match the dimensions\n",
    "\n",
    "# But what happens when we don't have a matching dimension? "
   ]
  },
  {
   "cell_type": "code",
   "execution_count": 193,
   "id": "b956e288",
   "metadata": {},
   "outputs": [],
   "source": [
    "test_array + np.array([2,1])\n",
    "\n",
    "# Broadcasting relies in compatible shapes"
   ]
  },
  {
   "cell_type": "code",
   "execution_count": 197,
   "id": "65f46ea7",
   "metadata": {},
   "outputs": [
    {
     "data": {
      "text/plain": [
       "array([[3, 4, 5],\n",
       "       [3, 4, 5],\n",
       "       [3, 4, 5]])"
      ]
     },
     "execution_count": 197,
     "metadata": {},
     "output_type": "execute_result"
    }
   ],
   "source": [
    "test_array[0, :] + test_array[:, 1].reshape(3,1)"
   ]
  },
  {
   "cell_type": "code",
   "execution_count": 201,
   "id": "4da57b5c",
   "metadata": {},
   "outputs": [],
   "source": [
    "# Behind the scenes, numpy knows that he has to fill each matrix with \n",
    "# 1,2,3 and 2,2,2 respectively to have both matrices 3x3\n",
    "\n",
    "# THE IMPORTANT is to have a matching dimension either AxB or BxA"
   ]
  },
  {
   "cell_type": "markdown",
   "id": "f9449c8f",
   "metadata": {},
   "source": [
    "# Key Takeaways\n",
    "- Numpy forms the foundation for Pandas\n",
    "- Numpy arrays are more efficient than base Python lists and tuples (see behind C functions)\n",
    "- Array operations let you aggregate, filter, and sort data\n",
    "- Broadcasting and vectorization make sort, filter and aggregate operations convenient and efficient without the use of loops (they use behind C libraries of linear algebra which are much more efficient and optimized)"
   ]
  },
  {
   "cell_type": "markdown",
   "id": "8988d57a",
   "metadata": {},
   "source": [
    "### Disclaimer\n",
    "\n",
    "As I am practicing Python language and NumPy library, I took and adapted this code from the course \"Data Analysis with Python: Numpy & Pandas Masterclass\" including the excercise section with just one exception that are the solutions of each excercise, they were solved by me. "
   ]
  }
 ],
 "metadata": {
  "kernelspec": {
   "display_name": "Python 3 (ipykernel)",
   "language": "python",
   "name": "python3"
  },
  "language_info": {
   "codemirror_mode": {
    "name": "ipython",
    "version": 3
   },
   "file_extension": ".py",
   "mimetype": "text/x-python",
   "name": "python",
   "nbconvert_exporter": "python",
   "pygments_lexer": "ipython3",
   "version": "3.11.5"
  }
 },
 "nbformat": 4,
 "nbformat_minor": 5
}
