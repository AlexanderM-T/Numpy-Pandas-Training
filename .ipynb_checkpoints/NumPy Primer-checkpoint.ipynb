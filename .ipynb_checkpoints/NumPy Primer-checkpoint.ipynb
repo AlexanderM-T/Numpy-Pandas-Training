{
 "cells": [
  {
   "cell_type": "code",
   "execution_count": 1,
   "id": "31135e3e",
   "metadata": {},
   "outputs": [],
   "source": [
    "import numpy as np"
   ]
  },
  {
   "cell_type": "markdown",
   "id": "f64a969c",
   "metadata": {},
   "source": [
    "# Numpy Array Basics"
   ]
  },
  {
   "cell_type": "code",
   "execution_count": 37,
   "id": "511dfc2c",
   "metadata": {},
   "outputs": [
    {
     "data": {
      "text/plain": [
       "array([0, 1, 2, 3, 4])"
      ]
     },
     "execution_count": 37,
     "metadata": {},
     "output_type": "execute_result"
    }
   ],
   "source": [
    "# This creates a new 1D numpy array\n",
    "array = np.array(range(5))\n",
    "array"
   ]
  },
  {
   "cell_type": "code",
   "execution_count": 13,
   "id": "6975fe00",
   "metadata": {},
   "outputs": [
    {
     "data": {
      "text/plain": [
       "array([[0, 1, 2, 3, 4],\n",
       "       [0, 1, 2, 3, 4]])"
      ]
     },
     "execution_count": 13,
     "metadata": {},
     "output_type": "execute_result"
    }
   ],
   "source": [
    "# This creates a new 2D numpy array\n",
    "array_2d = np.array([range(5), range(5)])\n",
    "array_2d"
   ]
  },
  {
   "cell_type": "code",
   "execution_count": 14,
   "id": "4b8d89c0",
   "metadata": {},
   "outputs": [
    {
     "data": {
      "text/plain": [
       "array([[1, 2, 3, 4, 5],\n",
       "       [1, 2, 3, 4, 5]])"
      ]
     },
     "execution_count": 14,
     "metadata": {},
     "output_type": "execute_result"
    }
   ],
   "source": [
    "# Simple operation of adding 1 to each element\n",
    "array_2d + 1 "
   ]
  },
  {
   "cell_type": "code",
   "execution_count": 17,
   "id": "ab7cac91",
   "metadata": {},
   "outputs": [
    {
     "data": {
      "text/plain": [
       "(5,)"
      ]
     },
     "execution_count": 17,
     "metadata": {},
     "output_type": "execute_result"
    }
   ],
   "source": [
    "# (5,) means 1 column of data with 5 elements\n",
    "array.shape "
   ]
  },
  {
   "cell_type": "code",
   "execution_count": 18,
   "id": "7c07507c",
   "metadata": {},
   "outputs": [
    {
     "data": {
      "text/plain": [
       "5"
      ]
     },
     "execution_count": 18,
     "metadata": {},
     "output_type": "execute_result"
    }
   ],
   "source": [
    "# 5 means 5 elements of data\n",
    "array.size "
   ]
  },
  {
   "cell_type": "code",
   "execution_count": 19,
   "id": "2313f733",
   "metadata": {},
   "outputs": [
    {
     "data": {
      "text/plain": [
       "(2, 5)"
      ]
     },
     "execution_count": 19,
     "metadata": {},
     "output_type": "execute_result"
    }
   ],
   "source": [
    "# (2,5) means 2 columns of data with 5 elements\n",
    "array_2d.shape "
   ]
  },
  {
   "cell_type": "code",
   "execution_count": 21,
   "id": "0cbde706",
   "metadata": {},
   "outputs": [
    {
     "data": {
      "text/plain": [
       "10"
      ]
     },
     "execution_count": 21,
     "metadata": {},
     "output_type": "execute_result"
    }
   ],
   "source": [
    "# 10 means 10 elements of data\n",
    "array_2d.size "
   ]
  },
  {
   "cell_type": "code",
   "execution_count": 22,
   "id": "a0a801dd",
   "metadata": {},
   "outputs": [
    {
     "data": {
      "text/plain": [
       "array([[0, 0],\n",
       "       [1, 1],\n",
       "       [2, 2],\n",
       "       [3, 3],\n",
       "       [4, 4]])"
      ]
     },
     "execution_count": 22,
     "metadata": {},
     "output_type": "execute_result"
    }
   ],
   "source": [
    "# T is the transpose method, it will essentially swap our axes\n",
    "array_2d.T "
   ]
  },
  {
   "cell_type": "code",
   "execution_count": 23,
   "id": "957288c5",
   "metadata": {},
   "outputs": [
    {
     "data": {
      "text/plain": [
       "2"
      ]
     },
     "execution_count": 23,
     "metadata": {},
     "output_type": "execute_result"
    }
   ],
   "source": [
    "# means 2 dimention\n",
    "array_2d.ndim "
   ]
  },
  {
   "cell_type": "code",
   "execution_count": 24,
   "id": "c67294ff",
   "metadata": {},
   "outputs": [
    {
     "data": {
      "text/plain": [
       "dtype('int32')"
      ]
     },
     "execution_count": 24,
     "metadata": {},
     "output_type": "execute_result"
    }
   ],
   "source": [
    "# means what datatype is stored in the array\n",
    "array_2d.dtype "
   ]
  },
  {
   "cell_type": "code",
   "execution_count": 25,
   "id": "67e50d7d",
   "metadata": {},
   "outputs": [
    {
     "data": {
      "text/plain": [
       "array(['I', 'love', 'Python'], dtype='<U6')"
      ]
     },
     "execution_count": 25,
     "metadata": {},
     "output_type": "execute_result"
    }
   ],
   "source": [
    "# Non-integer array\n",
    "np.array(['I','love','Python']) "
   ]
  },
  {
   "cell_type": "markdown",
   "id": "49af2179",
   "metadata": {},
   "source": [
    "# Array Creation"
   ]
  },
  {
   "cell_type": "code",
   "execution_count": 30,
   "id": "b721a020",
   "metadata": {},
   "outputs": [
    {
     "data": {
      "text/plain": [
       "array([[1, 1],\n",
       "       [1, 1]])"
      ]
     },
     "execution_count": 30,
     "metadata": {},
     "output_type": "execute_result"
    }
   ],
   "source": [
    "# Creates an array of ones of a given size, as float by default\n",
    "np.ones((2,2), 'int32') "
   ]
  },
  {
   "cell_type": "code",
   "execution_count": 44,
   "id": "51c5b7fc",
   "metadata": {},
   "outputs": [
    {
     "data": {
      "text/plain": [
       "array([[0, 0],\n",
       "       [0, 0]])"
      ]
     },
     "execution_count": 44,
     "metadata": {},
     "output_type": "execute_result"
    }
   ],
   "source": [
    "# Creates an array of zeros of a given size, as float by default\n",
    "np.zeros((2,2), dtype=int) "
   ]
  },
  {
   "cell_type": "code",
   "execution_count": 34,
   "id": "caf72fa3",
   "metadata": {},
   "outputs": [
    {
     "data": {
      "text/plain": [
       "array([1, 2, 3, 4])"
      ]
     },
     "execution_count": 34,
     "metadata": {},
     "output_type": "execute_result"
    }
   ],
   "source": [
    "# Creates an array of integers with given start & stop values, and a step size (only stop is required, and is not inclusive)\n",
    "# (start, stop, step) Start is 0 and step is 1 by default\n",
    "np.arange(1,5,1)"
   ]
  },
  {
   "cell_type": "code",
   "execution_count": 43,
   "id": "5daae7c8",
   "metadata": {},
   "outputs": [
    {
     "data": {
      "text/plain": [
       "array([  0.,  25.,  50.,  75., 100.])"
      ]
     },
     "execution_count": 43,
     "metadata": {},
     "output_type": "execute_result"
    }
   ],
   "source": [
    "# Creates an array of floats with given start & stop values with n elements, separated by a consistent step size (stop is inclusive)\n",
    "np.linspace(0, 100, 5) "
   ]
  },
  {
   "cell_type": "code",
   "execution_count": 45,
   "id": "d694acea",
   "metadata": {},
   "outputs": [
    {
     "data": {
      "text/plain": [
       "array([[1, 3],\n",
       "       [5, 7]])"
      ]
     },
     "execution_count": 45,
     "metadata": {},
     "output_type": "execute_result"
    }
   ],
   "source": [
    "# Changes an array into specified dimensions (rows, cols)\n",
    "np.arange(1,9,2).reshape(2,2) "
   ]
  },
  {
   "cell_type": "code",
   "execution_count": 46,
   "id": "af1859d7",
   "metadata": {},
   "outputs": [
    {
     "data": {
      "text/plain": [
       "array([[0, 0, 0, 0, 0, 0, 0, 0, 0, 0],\n",
       "       [0, 0, 0, 0, 0, 0, 0, 0, 0, 0],\n",
       "       [0, 0, 0, 0, 0, 0, 0, 0, 0, 0],\n",
       "       [0, 0, 0, 0, 0, 0, 0, 0, 0, 0],\n",
       "       [0, 0, 0, 0, 0, 0, 0, 0, 0, 0],\n",
       "       [0, 0, 0, 0, 0, 0, 0, 0, 0, 0],\n",
       "       [0, 0, 0, 0, 0, 0, 0, 0, 0, 0],\n",
       "       [0, 0, 0, 0, 0, 0, 0, 0, 0, 0],\n",
       "       [0, 0, 0, 0, 0, 0, 0, 0, 0, 0],\n",
       "       [0, 0, 0, 0, 0, 0, 0, 0, 0, 0]])"
      ]
     },
     "execution_count": 46,
     "metadata": {},
     "output_type": "execute_result"
    }
   ],
   "source": [
    "# 100 zeros reshaped to 10x10 matrix\n",
    "np.zeros(100, 'int').reshape(10,10)"
   ]
  },
  {
   "cell_type": "code",
   "execution_count": 51,
   "id": "16eee7a6",
   "metadata": {},
   "outputs": [
    {
     "data": {
      "text/plain": [
       "array([0.22733602, 0.31675834, 0.79736546, 0.67625467, 0.39110955,\n",
       "       0.33281393, 0.59830875, 0.18673419, 0.67275604, 0.94180287])"
      ]
     },
     "execution_count": 51,
     "metadata": {},
     "output_type": "execute_result"
    }
   ],
   "source": [
    "from numpy.random import default_rng\n",
    "\n",
    "# Here we create a random number generator with specific seed\n",
    "rng = default_rng(12345)\n",
    "\n",
    "# Creating a seed is important to ensure you and others can recreate the work\n",
    "\n",
    "# Returns n random numbers from a uniform distribution between 0 and 1\n",
    "random_array = rng.random(10)\n",
    "random_array"
   ]
  },
  {
   "cell_type": "code",
   "execution_count": 52,
   "id": "40b7ef67",
   "metadata": {},
   "outputs": [
    {
     "data": {
      "text/plain": [
       "array([3.57617496, 6.26372846, 4.12933826, 4.74082677, 4.92465669,\n",
       "       4.25911535, 3.6322073 , 5.6488928 , 5.36105811, 3.04713694])"
      ]
     },
     "execution_count": 52,
     "metadata": {},
     "output_type": "execute_result"
    }
   ],
   "source": [
    "rng = default_rng(12345)\n",
    "mean, stddev = 5, 1\n",
    "\n",
    "# Returns n random numbers from a normal distribution with a given mean and standard deviation\n",
    "random_normal = rng.normal(mean, stddev, size=10)\n",
    "random_normal"
   ]
  },
  {
   "cell_type": "code",
   "execution_count": 53,
   "id": "c44adcb7",
   "metadata": {},
   "outputs": [
    {
     "data": {
      "text/plain": [
       "array([7, 2, 9, 9, 7, 6, 1, 0, 2, 4, 0, 8, 4, 6, 2, 3, 1, 7, 7, 2, 7, 0,\n",
       "       3, 1, 7, 3, 4, 4, 4, 2, 5, 8, 4, 1, 0, 1, 0, 0, 1, 5, 8, 8, 6, 6,\n",
       "       3, 9, 6, 7, 7, 8, 7, 9, 5, 5, 2, 9, 5, 4, 3, 2, 6, 4, 5, 6, 8, 3,\n",
       "       6, 9, 4, 2, 2, 3, 6, 2, 8, 3, 0, 0, 0, 6, 3, 2, 6, 0, 5, 6, 0, 1,\n",
       "       3, 3, 9, 4, 6, 1, 8, 2, 7, 4, 4, 4], dtype=int64)"
      ]
     },
     "execution_count": 53,
     "metadata": {},
     "output_type": "execute_result"
    }
   ],
   "source": [
    "# 100 Random integers from 0 to 10\n",
    "rng.integers(0, 10, 100)"
   ]
  },
  {
   "cell_type": "markdown",
   "id": "e7ce52d7",
   "metadata": {},
   "source": [
    "# Array Indexing & Slicing"
   ]
  },
  {
   "cell_type": "markdown",
   "id": "b03f0f33",
   "metadata": {},
   "source": [
    "### Indexing & Slicing one-dimensional array\n",
    "Indexing to access a single element (0-indexed)\n",
    "`array[index]`\n",
    "\n",
    "Slicing to access a series of elements (stop is not inclusive)\n",
    "`array[start:stop:step]`"
   ]
  },
  {
   "cell_type": "code",
   "execution_count": 79,
   "id": "7aaa352a",
   "metadata": {},
   "outputs": [
    {
     "name": "stdout",
     "output_type": "stream",
     "text": [
      "vegetables\n",
      "spices\n"
     ]
    }
   ],
   "source": [
    "# Getting elements by indexing\n",
    "product_array = np.array(['fruits', 'vegetables', 'cereal', 'dairy','eggs',\n",
    "                          'snacks', 'beverages','coffee','tea', 'spices'])\n",
    "print(product_array[1])\n",
    "print(product_array[-1])"
   ]
  },
  {
   "cell_type": "code",
   "execution_count": 66,
   "id": "a0e40613",
   "metadata": {},
   "outputs": [
    {
     "data": {
      "text/plain": [
       "array(['fruits', 'vegetables', 'cereal', 'coffee', 'eggs'], dtype='<U10')"
      ]
     },
     "execution_count": 66,
     "metadata": {},
     "output_type": "execute_result"
    }
   ],
   "source": [
    "# Getting elements by slicing\n",
    "product_array[:5] # Default start point is 0 and default step is 1"
   ]
  },
  {
   "cell_type": "code",
   "execution_count": 68,
   "id": "be597300",
   "metadata": {},
   "outputs": [
    {
     "data": {
      "text/plain": [
       "array(['vegetables', 'coffee'], dtype='<U10')"
      ]
     },
     "execution_count": 68,
     "metadata": {},
     "output_type": "execute_result"
    }
   ],
   "source": [
    "# [start:stop:step] here we have [start::step] stop default is the last index\n",
    "product_array[1::2]"
   ]
  },
  {
   "cell_type": "markdown",
   "id": "0210b1dc",
   "metadata": {},
   "source": [
    "### Indexing & Slicing two-dimensional array\n",
    "Indexing to access a single element (0-indexed) `array[row index, column index]`\n",
    "\n",
    "Slicing to access a series of elements `array[start:stop:step, start:stop:step]`"
   ]
  },
  {
   "cell_type": "code",
   "execution_count": 98,
   "id": "5b8addfb",
   "metadata": {},
   "outputs": [
    {
     "name": "stdout",
     "output_type": "stream",
     "text": [
      "coffee\n"
     ]
    }
   ],
   "source": [
    "# Getting elements by indexing\n",
    "product_array2D = product_array.reshape(2,5)\n",
    "product_array2D\n",
    "\n",
    "# This goes to the second row and grabs the third element\n",
    "print(product_array2D[1,2])"
   ]
  },
  {
   "cell_type": "code",
   "execution_count": 82,
   "id": "61d10aa1",
   "metadata": {},
   "outputs": [
    {
     "data": {
      "text/plain": [
       "array([['cereal', 'dairy', 'eggs'],\n",
       "       ['coffee', 'tea', 'spices']], dtype='<U10')"
      ]
     },
     "execution_count": 82,
     "metadata": {},
     "output_type": "execute_result"
    }
   ],
   "source": [
    "# Getting elements by slicing\n",
    "\n",
    "# This goes all rows and grabs all elements starting from the third in each row\n",
    "product_array2D[:, 2:]"
   ]
  },
  {
   "cell_type": "code",
   "execution_count": 83,
   "id": "890eae74",
   "metadata": {},
   "outputs": [
    {
     "data": {
      "text/plain": [
       "array([['snacks', 'beverages', 'coffee', 'tea', 'spices']], dtype='<U10')"
      ]
     },
     "execution_count": 83,
     "metadata": {},
     "output_type": "execute_result"
    }
   ],
   "source": [
    "# This goes to the second row and grabs all its elements\n",
    "product_array2D[1:, :]"
   ]
  },
  {
   "cell_type": "markdown",
   "id": "b13c9ef6",
   "metadata": {},
   "source": [
    "### Excercises"
   ]
  },
  {
   "cell_type": "code",
   "execution_count": 84,
   "id": "44675769",
   "metadata": {},
   "outputs": [],
   "source": [
    "integer_array = np.arange(12)"
   ]
  },
  {
   "cell_type": "code",
   "execution_count": 85,
   "id": "8ba5a59e",
   "metadata": {},
   "outputs": [
    {
     "data": {
      "text/plain": [
       "array([ 0,  1,  2,  3,  4,  5,  6,  7,  8,  9, 10, 11])"
      ]
     },
     "execution_count": 85,
     "metadata": {},
     "output_type": "execute_result"
    }
   ],
   "source": [
    "integer_array"
   ]
  },
  {
   "cell_type": "code",
   "execution_count": 86,
   "id": "c0541234",
   "metadata": {},
   "outputs": [
    {
     "data": {
      "text/plain": [
       "0"
      ]
     },
     "execution_count": 86,
     "metadata": {},
     "output_type": "execute_result"
    }
   ],
   "source": [
    "integer_array[0]"
   ]
  },
  {
   "cell_type": "code",
   "execution_count": 88,
   "id": "2c9e01de",
   "metadata": {},
   "outputs": [
    {
     "data": {
      "text/plain": [
       "11"
      ]
     },
     "execution_count": 88,
     "metadata": {},
     "output_type": "execute_result"
    }
   ],
   "source": [
    "integer_array[-1]"
   ]
  },
  {
   "cell_type": "code",
   "execution_count": 89,
   "id": "71398b89",
   "metadata": {},
   "outputs": [
    {
     "data": {
      "text/plain": [
       "array([ 0,  1,  2,  3,  4,  5,  6,  7,  8,  9, 10, 11])"
      ]
     },
     "execution_count": 89,
     "metadata": {},
     "output_type": "execute_result"
    }
   ],
   "source": [
    "integer_array[:]"
   ]
  },
  {
   "cell_type": "code",
   "execution_count": 90,
   "id": "a2143654",
   "metadata": {},
   "outputs": [
    {
     "data": {
      "text/plain": [
       "array([ 0,  2,  4,  6,  8, 10])"
      ]
     },
     "execution_count": 90,
     "metadata": {},
     "output_type": "execute_result"
    }
   ],
   "source": [
    "integer_array[::2]"
   ]
  },
  {
   "cell_type": "code",
   "execution_count": 92,
   "id": "5eeb583d",
   "metadata": {},
   "outputs": [
    {
     "data": {
      "text/plain": [
       "array([[ 0,  1,  2,  3],\n",
       "       [ 4,  5,  6,  7],\n",
       "       [ 8,  9, 10, 11]])"
      ]
     },
     "execution_count": 92,
     "metadata": {},
     "output_type": "execute_result"
    }
   ],
   "source": [
    "new_array = integer_array.reshape(3,4)\n",
    "new_array"
   ]
  },
  {
   "cell_type": "code",
   "execution_count": 93,
   "id": "79c10414",
   "metadata": {},
   "outputs": [
    {
     "data": {
      "text/plain": [
       "array([[ 0,  1,  2,  3],\n",
       "       [ 4,  5,  6,  7],\n",
       "       [ 8,  9, 10, 11]])"
      ]
     },
     "execution_count": 93,
     "metadata": {},
     "output_type": "execute_result"
    }
   ],
   "source": [
    "new_array[:, :]"
   ]
  },
  {
   "cell_type": "code",
   "execution_count": 94,
   "id": "7ba51237",
   "metadata": {},
   "outputs": [
    {
     "data": {
      "text/plain": [
       "array([[ 4,  5,  6,  7],\n",
       "       [ 8,  9, 10, 11]])"
      ]
     },
     "execution_count": 94,
     "metadata": {},
     "output_type": "execute_result"
    }
   ],
   "source": [
    "new_array[1:, :]"
   ]
  },
  {
   "cell_type": "code",
   "execution_count": 95,
   "id": "ca4b3cdb",
   "metadata": {},
   "outputs": [
    {
     "data": {
      "text/plain": [
       "array([ 3,  7, 11])"
      ]
     },
     "execution_count": 95,
     "metadata": {},
     "output_type": "execute_result"
    }
   ],
   "source": [
    "new_array[:, 3]"
   ]
  },
  {
   "cell_type": "code",
   "execution_count": 96,
   "id": "b8495202",
   "metadata": {},
   "outputs": [
    {
     "data": {
      "text/plain": [
       "array([[ 1,  2,  3],\n",
       "       [ 5,  6,  7],\n",
       "       [ 9, 10, 11]])"
      ]
     },
     "execution_count": 96,
     "metadata": {},
     "output_type": "execute_result"
    }
   ],
   "source": [
    "new_array[:, 1:]"
   ]
  },
  {
   "cell_type": "code",
   "execution_count": 97,
   "id": "25ccfba1",
   "metadata": {},
   "outputs": [
    {
     "data": {
      "text/plain": [
       "9"
      ]
     },
     "execution_count": 97,
     "metadata": {},
     "output_type": "execute_result"
    }
   ],
   "source": [
    "new_array[2,1]"
   ]
  },
  {
   "cell_type": "markdown",
   "id": "a0054878",
   "metadata": {},
   "source": [
    "# Array Operations\n",
    "\n",
    "Arithmetic operators can be used to perform array operations\n"
   ]
  },
  {
   "cell_type": "code",
   "execution_count": 99,
   "id": "2a524e5d",
   "metadata": {},
   "outputs": [
    {
     "data": {
      "text/plain": [
       "array([[   0,    5,  155,    0,  518],\n",
       "       [   0, 1827,  616,  317,  325]])"
      ]
     },
     "execution_count": 99,
     "metadata": {},
     "output_type": "execute_result"
    }
   ],
   "source": [
    "sales = [[0,5,155,0,518], [0,1827,616,317,325]]\n",
    "sales_array = np.array(sales)\n",
    "sales_array"
   ]
  },
  {
   "cell_type": "code",
   "execution_count": 100,
   "id": "cff6a641",
   "metadata": {},
   "outputs": [
    {
     "data": {
      "text/plain": [
       "array([[   2,    7,  157,    2,  520],\n",
       "       [   2, 1829,  618,  319,  327]])"
      ]
     },
     "execution_count": 100,
     "metadata": {},
     "output_type": "execute_result"
    }
   ],
   "source": [
    "# This adds 2 to every element in the array\n",
    "sales_array + 2"
   ]
  },
  {
   "cell_type": "code",
   "execution_count": 101,
   "id": "57c44d3d",
   "metadata": {},
   "outputs": [
    {
     "data": {
      "text/plain": [
       "array([     0,   9135,  95480,      0, 168350])"
      ]
     },
     "execution_count": 101,
     "metadata": {},
     "output_type": "execute_result"
    }
   ],
   "source": [
    "# This assigns all elements in the first row to quantity and \n",
    "# in the second row to price\n",
    "# Finally it multiplies the corresponding elements in each array\n",
    "quantity = sales_array[0, :]\n",
    "price = sales_array[1, :]\n",
    "\n",
    "quantity * price"
   ]
  },
  {
   "cell_type": "code",
   "execution_count": 102,
   "id": "e19ce4c6",
   "metadata": {},
   "outputs": [],
   "source": [
    "# This array operations are applied via vectorization and broadcasting,\n",
    "# which eliminates the need to loop through the array's elements"
   ]
  },
  {
   "cell_type": "markdown",
   "id": "9ee58153",
   "metadata": {},
   "source": [
    "# Filtering Arrays\n",
    "You can filter arrays by indexing them with a logical test\n",
    "- Only the array elements in positions where the logical test returns True are returned"
   ]
  },
  {
   "cell_type": "code",
   "execution_count": 103,
   "id": "231fda55",
   "metadata": {},
   "outputs": [
    {
     "data": {
      "text/plain": [
       "array([[   0,    5,  155,    0,  518],\n",
       "       [   0, 1827,  616,  317,  325]])"
      ]
     },
     "execution_count": 103,
     "metadata": {},
     "output_type": "execute_result"
    }
   ],
   "source": [
    "sales_array"
   ]
  },
  {
   "cell_type": "code",
   "execution_count": 104,
   "id": "a1420de3",
   "metadata": {},
   "outputs": [
    {
     "data": {
      "text/plain": [
       "array([[False,  True,  True, False,  True],\n",
       "       [False,  True,  True,  True,  True]])"
      ]
     },
     "execution_count": 104,
     "metadata": {},
     "output_type": "execute_result"
    }
   ],
   "source": [
    "# Performing a logical test on a NumPy array returns a Boolean array with\n",
    "# the results of the logical test on each array element\n",
    "sales_array != 0"
   ]
  },
  {
   "cell_type": "code",
   "execution_count": 105,
   "id": "6e8f92aa",
   "metadata": {},
   "outputs": [
    {
     "data": {
      "text/plain": [
       "array([   5,  155,  518, 1827,  616,  317,  325])"
      ]
     },
     "execution_count": 105,
     "metadata": {},
     "output_type": "execute_result"
    }
   ],
   "source": [
    "# So we can use that array to do some filtering operations... :)\n",
    "sales_array[sales_array != 0]"
   ]
  },
  {
   "cell_type": "code",
   "execution_count": 107,
   "id": "8bd1447f",
   "metadata": {},
   "outputs": [
    {
     "data": {
      "text/plain": [
       "array([  0,   5,   0,   0, 616])"
      ]
     },
     "execution_count": 107,
     "metadata": {},
     "output_type": "execute_result"
    }
   ],
   "source": [
    "sales_array[(sales_array == 616) | (sales_array < 100)]"
   ]
  },
  {
   "cell_type": "code",
   "execution_count": 108,
   "id": "c1a70095",
   "metadata": {},
   "outputs": [
    {
     "data": {
      "text/plain": [
       "array([155, 317, 325])"
      ]
     },
     "execution_count": 108,
     "metadata": {},
     "output_type": "execute_result"
    }
   ],
   "source": [
    "sales_array[(sales_array > 100) & (sales_array < 500)]"
   ]
  },
  {
   "cell_type": "code",
   "execution_count": 109,
   "id": "c4fc4177",
   "metadata": {},
   "outputs": [
    {
     "data": {
      "text/plain": [
       "array([155, 317, 325])"
      ]
     },
     "execution_count": 109,
     "metadata": {},
     "output_type": "execute_result"
    }
   ],
   "source": [
    "# Pro Tip: Store complex filtering criteria in a variable\n",
    "# Usually known as Boolean mask\n",
    "mask = (sales_array > 100) & (sales_array < 500)\n",
    "sales_array[mask]"
   ]
  },
  {
   "cell_type": "code",
   "execution_count": 136,
   "id": "934e19c6",
   "metadata": {},
   "outputs": [],
   "source": [
    "# You can filter arrays based on values in other arrays\n",
    "\n",
    "sales_arr = [0,5,155,0,518]\n",
    "sales_filter = np.array(sales_arr)"
   ]
  },
  {
   "cell_type": "code",
   "execution_count": 137,
   "id": "9a1e1477",
   "metadata": {},
   "outputs": [],
   "source": [
    "product_arr = ['fruits','vegetables','cereal','dairy','eggs',]\n",
    "product_filter = np.array(product_arr)"
   ]
  },
  {
   "cell_type": "code",
   "execution_count": 138,
   "id": "d5b463fa",
   "metadata": {},
   "outputs": [
    {
     "data": {
      "text/plain": [
       "array(['vegetables', 'cereal', 'eggs'], dtype='<U10')"
      ]
     },
     "execution_count": 138,
     "metadata": {},
     "output_type": "execute_result"
    }
   ],
   "source": [
    "product_filter[sales_filter > 0]"
   ]
  },
  {
   "cell_type": "code",
   "execution_count": 139,
   "id": "0e3d1be9",
   "metadata": {},
   "outputs": [
    {
     "data": {
      "text/plain": [
       "array([  0,  25, 155,   0, 518])"
      ]
     },
     "execution_count": 139,
     "metadata": {},
     "output_type": "execute_result"
    }
   ],
   "source": [
    "# You can modify array values by assigning new ones\n",
    "sales_filter[1] = 25\n",
    "sales_filter"
   ]
  },
  {
   "cell_type": "code",
   "execution_count": 140,
   "id": "fbd71a2f",
   "metadata": {},
   "outputs": [
    {
     "data": {
      "text/plain": [
       "array([  5,  25, 155,   5, 518])"
      ]
     },
     "execution_count": 140,
     "metadata": {},
     "output_type": "execute_result"
    }
   ],
   "source": [
    "# Filters the zero values and assigns them a new value of 5\n",
    "sales_filter[sales_filter == 0] = 5\n",
    "sales_filter"
   ]
  },
  {
   "cell_type": "markdown",
   "id": "b28d5ada",
   "metadata": {},
   "source": [
    "# The Where Function\n",
    "The where() NumPy function performs a logical test and returns a given value if the test is True, or another if the test is False\n",
    "\n",
    "Sintax: np.where(logical test, value if True, value if False)"
   ]
  },
  {
   "cell_type": "code",
   "execution_count": 143,
   "id": "598c57fa",
   "metadata": {},
   "outputs": [
    {
     "data": {
      "text/plain": [
       "array([ 0,  1,  2,  3,  4,  5,  6,  7,  8,  9, 10, 11, 12, 13, 14, 15, 16,\n",
       "       17, 18, 19])"
      ]
     },
     "execution_count": 143,
     "metadata": {},
     "output_type": "execute_result"
    }
   ],
   "source": [
    "my_array = np.arange(20)\n",
    "my_array"
   ]
  },
  {
   "cell_type": "code",
   "execution_count": 144,
   "id": "a5c19b11",
   "metadata": {},
   "outputs": [
    {
     "data": {
      "text/plain": [
       "array(['even', 'odd', 'even', 'odd', 'even', 'odd', 'even', 'odd', 'even',\n",
       "       'odd', 'even', 'odd', 'even', 'odd', 'even', 'odd', 'even', 'odd',\n",
       "       'even', 'odd'], dtype='<U4')"
      ]
     },
     "execution_count": 144,
     "metadata": {},
     "output_type": "execute_result"
    }
   ],
   "source": [
    "np.where(my_array % 2 == 0, 'even', 'odd')"
   ]
  },
  {
   "cell_type": "code",
   "execution_count": 145,
   "id": "fc685485",
   "metadata": {},
   "outputs": [
    {
     "data": {
      "text/plain": [
       "array(['even', 'odd', 'even', 'odd', 'even', 'odd', 'even', 'odd', 'even',\n",
       "       '9', 'even', 'odd', 'even', 'odd', 'even', 'odd', 'even', 'odd',\n",
       "       'even', 'odd'], dtype='<U11')"
      ]
     },
     "execution_count": 145,
     "metadata": {},
     "output_type": "execute_result"
    }
   ],
   "source": [
    "np.where(my_array % 2 == 0, 'even', np.where(my_array == 9, my_array, 'odd'))"
   ]
  },
  {
   "cell_type": "markdown",
   "id": "392a3ed7",
   "metadata": {},
   "source": [
    "# Array Aggregation Methods\n",
    "Array aggregation methods let you calculate metrics like sum, mean, and max"
   ]
  },
  {
   "cell_type": "code",
   "execution_count": 146,
   "id": "7f067469",
   "metadata": {},
   "outputs": [
    {
     "data": {
      "text/plain": [
       "array([[   0,    5,  155,    0,  518],\n",
       "       [   0, 1827,  616,  317,  325]])"
      ]
     },
     "execution_count": 146,
     "metadata": {},
     "output_type": "execute_result"
    }
   ],
   "source": [
    "sales_array"
   ]
  },
  {
   "cell_type": "code",
   "execution_count": 147,
   "id": "47cd897d",
   "metadata": {},
   "outputs": [
    {
     "data": {
      "text/plain": [
       "3763"
      ]
     },
     "execution_count": 147,
     "metadata": {},
     "output_type": "execute_result"
    }
   ],
   "source": [
    "# Returns the sum of all values in an array\n",
    "sales_array.sum()"
   ]
  },
  {
   "cell_type": "code",
   "execution_count": 148,
   "id": "19d6acb3",
   "metadata": {},
   "outputs": [
    {
     "data": {
      "text/plain": [
       "376.3"
      ]
     },
     "execution_count": 148,
     "metadata": {},
     "output_type": "execute_result"
    }
   ],
   "source": [
    "# Returns the average of the values in an array\n",
    "sales_array.mean()"
   ]
  },
  {
   "cell_type": "code",
   "execution_count": 149,
   "id": "d3f5062c",
   "metadata": {},
   "outputs": [
    {
     "data": {
      "text/plain": [
       "1827"
      ]
     },
     "execution_count": 149,
     "metadata": {},
     "output_type": "execute_result"
    }
   ],
   "source": [
    "# Returns the largest value in the array\n",
    "sales_array.max()"
   ]
  },
  {
   "cell_type": "code",
   "execution_count": 159,
   "id": "090fff0a",
   "metadata": {},
   "outputs": [
    {
     "data": {
      "text/plain": [
       "0"
      ]
     },
     "execution_count": 159,
     "metadata": {},
     "output_type": "execute_result"
    }
   ],
   "source": [
    "# Returns the smallest value in an array\n",
    "sales_array.min()"
   ]
  },
  {
   "cell_type": "code",
   "execution_count": 160,
   "id": "a88c20f8",
   "metadata": {},
   "outputs": [
    {
     "data": {
      "text/plain": [
       "529.1366647662965"
      ]
     },
     "execution_count": 160,
     "metadata": {},
     "output_type": "execute_result"
    }
   ],
   "source": [
    "# Returns the standard deviation\n",
    "sales_array.std()"
   ]
  },
  {
   "cell_type": "code",
   "execution_count": 158,
   "id": "75396889",
   "metadata": {},
   "outputs": [
    {
     "data": {
      "text/plain": [
       "array([   0, 1832,  771,  317,  843])"
      ]
     },
     "execution_count": 158,
     "metadata": {},
     "output_type": "execute_result"
    }
   ],
   "source": [
    "# You can also aggregate across rows or columns\n",
    "\n",
    "# Agregates across rows\n",
    "sales_array.sum(axis=0)"
   ]
  },
  {
   "cell_type": "code",
   "execution_count": 157,
   "id": "630637a9",
   "metadata": {},
   "outputs": [
    {
     "data": {
      "text/plain": [
       "array([ 678, 3085])"
      ]
     },
     "execution_count": 157,
     "metadata": {},
     "output_type": "execute_result"
    }
   ],
   "source": [
    "# Agregates across columns\n",
    "sales_array.sum(axis=1)"
   ]
  },
  {
   "cell_type": "markdown",
   "id": "6659e4ef",
   "metadata": {},
   "source": [
    "# Array Operations\n",
    "Array functions let you perform other aggregations like median and percentiles"
   ]
  },
  {
   "cell_type": "code",
   "execution_count": 162,
   "id": "af277e17",
   "metadata": {},
   "outputs": [
    {
     "data": {
      "text/plain": [
       "array([[   0,    5,  155,    0,  518],\n",
       "       [   0, 1827,  616,  317,  325]])"
      ]
     },
     "execution_count": 162,
     "metadata": {},
     "output_type": "execute_result"
    }
   ],
   "source": [
    "sales_array"
   ]
  },
  {
   "cell_type": "code",
   "execution_count": 163,
   "id": "2c176cb7",
   "metadata": {},
   "outputs": [
    {
     "data": {
      "text/plain": [
       "236.0"
      ]
     },
     "execution_count": 163,
     "metadata": {},
     "output_type": "execute_result"
    }
   ],
   "source": [
    "# Returns the median value in an array\n",
    "np.median(sales_array)"
   ]
  },
  {
   "cell_type": "code",
   "execution_count": 164,
   "id": "cbd48abc",
   "metadata": {},
   "outputs": [
    {
     "data": {
      "text/plain": [
       "737.0999999999996"
      ]
     },
     "execution_count": 164,
     "metadata": {},
     "output_type": "execute_result"
    }
   ],
   "source": [
    "# Returns a value in the nth percentile in an array\n",
    "np.percentile(sales_array, 90)"
   ]
  },
  {
   "cell_type": "code",
   "execution_count": 165,
   "id": "2170d1b8",
   "metadata": {},
   "outputs": [
    {
     "data": {
      "text/plain": [
       "array([   0,    5,  155,  317,  325,  518,  616, 1827])"
      ]
     },
     "execution_count": 165,
     "metadata": {},
     "output_type": "execute_result"
    }
   ],
   "source": [
    "# Returns the unique values in an array\n",
    "np.unique(sales_array)"
   ]
  },
  {
   "cell_type": "code",
   "execution_count": 167,
   "id": "93b55d6d",
   "metadata": {},
   "outputs": [
    {
     "data": {
      "text/plain": [
       "array([[ 0.        ,  2.23606798, 12.4498996 ,  0.        , 22.75961335],\n",
       "       [ 0.        , 42.74342055, 24.81934729, 17.80449381, 18.02775638]])"
      ]
     },
     "execution_count": 167,
     "metadata": {},
     "output_type": "execute_result"
    }
   ],
   "source": [
    "# Returns the square root of each value of the array\n",
    "np.sqrt(sales_array)"
   ]
  },
  {
   "cell_type": "markdown",
   "id": "18b4062f",
   "metadata": {},
   "source": [
    "## Sorting Arrays\n",
    "The sort() method will sort arrays in place"
   ]
  },
  {
   "cell_type": "code",
   "execution_count": 168,
   "id": "2eea5f61",
   "metadata": {},
   "outputs": [
    {
     "data": {
      "text/plain": [
       "array([[   0,    5,  155,    0,  518],\n",
       "       [   0, 1827,  616,  317,  325]])"
      ]
     },
     "execution_count": 168,
     "metadata": {},
     "output_type": "execute_result"
    }
   ],
   "source": [
    "sales_array"
   ]
  },
  {
   "cell_type": "code",
   "execution_count": 169,
   "id": "b183053a",
   "metadata": {},
   "outputs": [
    {
     "data": {
      "text/plain": [
       "array([[   0,    0,    5,  155,  518],\n",
       "       [   0,  317,  325,  616, 1827]])"
      ]
     },
     "execution_count": 169,
     "metadata": {},
     "output_type": "execute_result"
    }
   ],
   "source": [
    "# Use the axis argument to specify the dimension to sort by\n",
    "# Axis=1 by default, which sorts a two-dimensional array row by row\n",
    "\n",
    "sales_array.sort() \n",
    "sales_array"
   ]
  },
  {
   "cell_type": "code",
   "execution_count": 171,
   "id": "eb66928a",
   "metadata": {},
   "outputs": [
    {
     "data": {
      "text/plain": [
       "array([[   0,    0,    5,  155,  518],\n",
       "       [   0,  317,  325,  616, 1827]])"
      ]
     },
     "execution_count": 171,
     "metadata": {},
     "output_type": "execute_result"
    }
   ],
   "source": [
    "sales_array.sort(axis=0)\n",
    "sales_array"
   ]
  },
  {
   "cell_type": "code",
   "execution_count": null,
   "id": "d421adf2",
   "metadata": {},
   "outputs": [],
   "source": []
  }
 ],
 "metadata": {
  "kernelspec": {
   "display_name": "Python 3 (ipykernel)",
   "language": "python",
   "name": "python3"
  },
  "language_info": {
   "codemirror_mode": {
    "name": "ipython",
    "version": 3
   },
   "file_extension": ".py",
   "mimetype": "text/x-python",
   "name": "python",
   "nbconvert_exporter": "python",
   "pygments_lexer": "ipython3",
   "version": "3.11.5"
  }
 },
 "nbformat": 4,
 "nbformat_minor": 5
}
